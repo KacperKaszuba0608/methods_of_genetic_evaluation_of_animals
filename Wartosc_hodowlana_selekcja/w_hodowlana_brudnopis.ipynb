{
 "cells": [
  {
   "cell_type": "code",
   "execution_count": 18,
   "id": "d1b4a47e",
   "metadata": {},
   "outputs": [
    {
     "data": {
      "text/plain": [
       "Index(['nr os', 'nr oj', 'nr ma', 'rok', 'ferma', 'liur', 'liod', 'c1(BS)',\n",
       "       'c2(CT)', 'c3(CP)', 'c4(CD)', 'c5(HL)', 'c6(PS)', 'c7(GA)', 'LOP'],\n",
       "      dtype='object')"
      ]
     },
     "execution_count": 18,
     "metadata": {},
     "output_type": "execute_result"
    }
   ],
   "source": [
    "import pandas as pd\n",
    "import random \n",
    "dane = pd.read_csv('/Users/daria/Desktop/PROJEKT/dane.csv', sep = ';')\n",
    "dane.head()\n",
    "dane.columns"
   ]
  },
  {
   "cell_type": "code",
   "execution_count": 19,
   "id": "74a26268",
   "metadata": {},
   "outputs": [
    {
     "data": {
      "text/html": [
       "<div>\n",
       "<style scoped>\n",
       "    .dataframe tbody tr th:only-of-type {\n",
       "        vertical-align: middle;\n",
       "    }\n",
       "\n",
       "    .dataframe tbody tr th {\n",
       "        vertical-align: top;\n",
       "    }\n",
       "\n",
       "    .dataframe thead th {\n",
       "        text-align: right;\n",
       "    }\n",
       "</style>\n",
       "<table border=\"1\" class=\"dataframe\">\n",
       "  <thead>\n",
       "    <tr style=\"text-align: right;\">\n",
       "      <th></th>\n",
       "      <th>nr os</th>\n",
       "      <th>nr oj</th>\n",
       "      <th>nr ma</th>\n",
       "      <th>rok</th>\n",
       "      <th>liur</th>\n",
       "      <th>liod</th>\n",
       "      <th>c1(BS)</th>\n",
       "      <th>c2(CT)</th>\n",
       "      <th>c3(CP)</th>\n",
       "      <th>c4(CD)</th>\n",
       "      <th>c5(HL)</th>\n",
       "      <th>c6(PS)</th>\n",
       "      <th>c7(GA)</th>\n",
       "      <th>LOP</th>\n",
       "    </tr>\n",
       "    <tr>\n",
       "      <th>ferma</th>\n",
       "      <th></th>\n",
       "      <th></th>\n",
       "      <th></th>\n",
       "      <th></th>\n",
       "      <th></th>\n",
       "      <th></th>\n",
       "      <th></th>\n",
       "      <th></th>\n",
       "      <th></th>\n",
       "      <th></th>\n",
       "      <th></th>\n",
       "      <th></th>\n",
       "      <th></th>\n",
       "      <th></th>\n",
       "    </tr>\n",
       "  </thead>\n",
       "  <tbody>\n",
       "    <tr>\n",
       "      <th>1</th>\n",
       "      <td>5220.550847</td>\n",
       "      <td>3058.135593</td>\n",
       "      <td>3809.313559</td>\n",
       "      <td>89.754237</td>\n",
       "      <td>4.084746</td>\n",
       "      <td>3.601695</td>\n",
       "      <td>5.644068</td>\n",
       "      <td>2.915254</td>\n",
       "      <td>2.406780</td>\n",
       "      <td>2.957627</td>\n",
       "      <td>5.415254</td>\n",
       "      <td>5.711864</td>\n",
       "      <td>2.652542</td>\n",
       "      <td>27.703390</td>\n",
       "    </tr>\n",
       "    <tr>\n",
       "      <th>2</th>\n",
       "      <td>5314.269444</td>\n",
       "      <td>3024.087963</td>\n",
       "      <td>3295.375926</td>\n",
       "      <td>89.592593</td>\n",
       "      <td>5.206481</td>\n",
       "      <td>4.176852</td>\n",
       "      <td>4.050000</td>\n",
       "      <td>2.317593</td>\n",
       "      <td>2.801852</td>\n",
       "      <td>2.835185</td>\n",
       "      <td>5.377778</td>\n",
       "      <td>4.917593</td>\n",
       "      <td>2.973148</td>\n",
       "      <td>25.273148</td>\n",
       "    </tr>\n",
       "    <tr>\n",
       "      <th>3</th>\n",
       "      <td>4752.159841</td>\n",
       "      <td>2862.451081</td>\n",
       "      <td>2272.474403</td>\n",
       "      <td>89.483504</td>\n",
       "      <td>5.472696</td>\n",
       "      <td>5.079636</td>\n",
       "      <td>4.559158</td>\n",
       "      <td>2.696246</td>\n",
       "      <td>2.905575</td>\n",
       "      <td>2.818544</td>\n",
       "      <td>5.674061</td>\n",
       "      <td>5.794084</td>\n",
       "      <td>2.492036</td>\n",
       "      <td>26.933447</td>\n",
       "    </tr>\n",
       "  </tbody>\n",
       "</table>\n",
       "</div>"
      ],
      "text/plain": [
       "             nr os        nr oj        nr ma        rok      liur      liod  \\\n",
       "ferma                                                                         \n",
       "1      5220.550847  3058.135593  3809.313559  89.754237  4.084746  3.601695   \n",
       "2      5314.269444  3024.087963  3295.375926  89.592593  5.206481  4.176852   \n",
       "3      4752.159841  2862.451081  2272.474403  89.483504  5.472696  5.079636   \n",
       "\n",
       "         c1(BS)    c2(CT)    c3(CP)    c4(CD)    c5(HL)    c6(PS)    c7(GA)  \\\n",
       "ferma                                                                         \n",
       "1      5.644068  2.915254  2.406780  2.957627  5.415254  5.711864  2.652542   \n",
       "2      4.050000  2.317593  2.801852  2.835185  5.377778  4.917593  2.973148   \n",
       "3      4.559158  2.696246  2.905575  2.818544  5.674061  5.794084  2.492036   \n",
       "\n",
       "             LOP  \n",
       "ferma             \n",
       "1      27.703390  \n",
       "2      25.273148  \n",
       "3      26.933447  "
      ]
     },
     "execution_count": 19,
     "metadata": {},
     "output_type": "execute_result"
    }
   ],
   "source": [
    "test = dane.groupby(['ferma','rok']).mean()\n",
    "srednie = dane.groupby(['ferma']).mean()\n",
    "srednie"
   ]
  },
  {
   "cell_type": "code",
   "execution_count": 20,
   "id": "5ff155d7",
   "metadata": {},
   "outputs": [],
   "source": [
    "wsp_reg = pd.read_csv('/Users/daria/Desktop/PROJEKT/W_hodowlana_selekcja/h^2_do_w_hod.csv', sep = ';')"
   ]
  },
  {
   "cell_type": "code",
   "execution_count": 21,
   "id": "1b4296e7",
   "metadata": {},
   "outputs": [
    {
     "data": {
      "text/html": [
       "<div>\n",
       "<style scoped>\n",
       "    .dataframe tbody tr th:only-of-type {\n",
       "        vertical-align: middle;\n",
       "    }\n",
       "\n",
       "    .dataframe tbody tr th {\n",
       "        vertical-align: top;\n",
       "    }\n",
       "\n",
       "    .dataframe thead th {\n",
       "        text-align: right;\n",
       "    }\n",
       "</style>\n",
       "<table border=\"1\" class=\"dataframe\">\n",
       "  <thead>\n",
       "    <tr style=\"text-align: right;\">\n",
       "      <th></th>\n",
       "      <th>Cecha</th>\n",
       "      <th>wariancja_genetyczna</th>\n",
       "      <th>wariancja_błedu</th>\n",
       "      <th>wariancja_fenotypowa</th>\n",
       "      <th>h^2</th>\n",
       "      <th>h^2_dobre</th>\n",
       "    </tr>\n",
       "  </thead>\n",
       "  <tbody>\n",
       "    <tr>\n",
       "      <th>0</th>\n",
       "      <td>wielkość osobnika</td>\n",
       "      <td>0,54</td>\n",
       "      <td>0,52</td>\n",
       "      <td>1,06</td>\n",
       "      <td>0,51</td>\n",
       "      <td>0.51</td>\n",
       "    </tr>\n",
       "    <tr>\n",
       "      <th>1</th>\n",
       "      <td>kolor okrywy włosowej</td>\n",
       "      <td>0,06</td>\n",
       "      <td>0,24</td>\n",
       "      <td>0,3</td>\n",
       "      <td>0,20</td>\n",
       "      <td>0.20</td>\n",
       "    </tr>\n",
       "    <tr>\n",
       "      <th>2</th>\n",
       "      <td>czystość koloru okrywy włosowej</td>\n",
       "      <td>0,02</td>\n",
       "      <td>0,16</td>\n",
       "      <td>0,18</td>\n",
       "      <td>0,11</td>\n",
       "      <td>0.11</td>\n",
       "    </tr>\n",
       "    <tr>\n",
       "      <th>3</th>\n",
       "      <td>gęstość okrywy włosowej</td>\n",
       "      <td>0,03</td>\n",
       "      <td>0,16</td>\n",
       "      <td>0,19</td>\n",
       "      <td>0,16</td>\n",
       "      <td>0.16</td>\n",
       "    </tr>\n",
       "    <tr>\n",
       "      <th>4</th>\n",
       "      <td>długość włosów</td>\n",
       "      <td>0,05</td>\n",
       "      <td>0,21</td>\n",
       "      <td>0,26</td>\n",
       "      <td>0,19</td>\n",
       "      <td>0.19</td>\n",
       "    </tr>\n",
       "    <tr>\n",
       "      <th>5</th>\n",
       "      <td>czystość posrebrzenia okrywy włosowej</td>\n",
       "      <td>0,1</td>\n",
       "      <td>0,28</td>\n",
       "      <td>0,38</td>\n",
       "      <td>0,26</td>\n",
       "      <td>0.26</td>\n",
       "    </tr>\n",
       "    <tr>\n",
       "      <th>6</th>\n",
       "      <td>wygląd ogólny</td>\n",
       "      <td>0,05</td>\n",
       "      <td>0,2</td>\n",
       "      <td>0,25</td>\n",
       "      <td>0,20</td>\n",
       "      <td>0.20</td>\n",
       "    </tr>\n",
       "    <tr>\n",
       "      <th>7</th>\n",
       "      <td>łaczna ocena pokroju</td>\n",
       "      <td>1,82</td>\n",
       "      <td>0,74</td>\n",
       "      <td>2,56</td>\n",
       "      <td>0,71</td>\n",
       "      <td>0.71</td>\n",
       "    </tr>\n",
       "  </tbody>\n",
       "</table>\n",
       "</div>"
      ],
      "text/plain": [
       "                                   Cecha wariancja_genetyczna wariancja_błedu  \\\n",
       "0                      wielkość osobnika                 0,54            0,52   \n",
       "1                 kolor okrywy włosowej                  0,06            0,24   \n",
       "2        czystość koloru okrywy włosowej                 0,02            0,16   \n",
       "3                gęstość okrywy włosowej                 0,03            0,16   \n",
       "4                         długość włosów                 0,05            0,21   \n",
       "5  czystość posrebrzenia okrywy włosowej                  0,1            0,28   \n",
       "6                          wygląd ogólny                 0,05             0,2   \n",
       "7                   łaczna ocena pokroju                 1,82            0,74   \n",
       "\n",
       "  wariancja_fenotypowa   h^2  h^2_dobre  \n",
       "0                 1,06  0,51       0.51  \n",
       "1                  0,3  0,20       0.20  \n",
       "2                 0,18  0,11       0.11  \n",
       "3                 0,19  0,16       0.16  \n",
       "4                 0,26  0,19       0.19  \n",
       "5                 0,38  0,26       0.26  \n",
       "6                 0,25  0,20       0.20  \n",
       "7                 2,56  0,71       0.71  "
      ]
     },
     "execution_count": 21,
     "metadata": {},
     "output_type": "execute_result"
    }
   ],
   "source": [
    "wsp_reg"
   ]
  },
  {
   "cell_type": "markdown",
   "id": "529e123e",
   "metadata": {},
   "source": [
    "# $$ \\stackrel\\frown{G} = b_{yp} (P_i - \\bar{P}) + \\bar{P} $$"
   ]
  },
  {
   "cell_type": "markdown",
   "id": "f497e1c6",
   "metadata": {},
   "source": [
    "# Wielkość osobnika"
   ]
  },
  {
   "cell_type": "code",
   "execution_count": 414,
   "id": "767c4f34",
   "metadata": {},
   "outputs": [],
   "source": [
    "#test = test['c1(BS)'].unstack(level='ferma')"
   ]
  },
  {
   "cell_type": "code",
   "execution_count": 415,
   "id": "73961e91",
   "metadata": {},
   "outputs": [
    {
     "data": {
      "text/plain": [
       "1824.0975609756097"
      ]
     },
     "execution_count": 415,
     "metadata": {},
     "output_type": "execute_result"
    }
   ],
   "source": [
    "test\n",
    "test.iloc[1].iloc[1]"
   ]
  },
  {
   "cell_type": "code",
   "execution_count": 23,
   "id": "6774832b",
   "metadata": {},
   "outputs": [
    {
     "name": "stderr",
     "output_type": "stream",
     "text": [
      "/var/folders/n2/w02nhlvs4x56ssy2xm7332lw0000gn/T/ipykernel_40968/607355949.py:2: SettingWithCopyWarning: \n",
      "A value is trying to be set on a copy of a slice from a DataFrame.\n",
      "Try using .loc[row_indexer,col_indexer] = value instead\n",
      "\n",
      "See the caveats in the documentation: https://pandas.pydata.org/pandas-docs/stable/user_guide/indexing.html#returning-a-view-versus-a-copy\n",
      "  wlk['byp'] = wsp_reg['h^2_dobre'][6]\n",
      "/var/folders/n2/w02nhlvs4x56ssy2xm7332lw0000gn/T/ipykernel_40968/607355949.py:3: SettingWithCopyWarning: \n",
      "A value is trying to be set on a copy of a slice from a DataFrame.\n",
      "Try using .loc[row_indexer,col_indexer] = value instead\n",
      "\n",
      "See the caveats in the documentation: https://pandas.pydata.org/pandas-docs/stable/user_guide/indexing.html#returning-a-view-versus-a-copy\n",
      "  wlk['mean'] = 0\n"
     ]
    }
   ],
   "source": [
    "wlk = dane[['rok','ferma','nr os','nr oj','nr ma','c7(GA)']]\n",
    "wlk['byp'] = wsp_reg['h^2_dobre'][6]\n",
    "wlk['mean'] = 0"
   ]
  },
  {
   "cell_type": "code",
   "execution_count": 24,
   "id": "8463cfb9",
   "metadata": {},
   "outputs": [
    {
     "name": "stderr",
     "output_type": "stream",
     "text": [
      "/var/folders/n2/w02nhlvs4x56ssy2xm7332lw0000gn/T/ipykernel_40968/2593204729.py:1: SettingWithCopyWarning: \n",
      "A value is trying to be set on a copy of a slice from a DataFrame.\n",
      "Try using .loc[row_indexer,col_indexer] = value instead\n",
      "\n",
      "See the caveats in the documentation: https://pandas.pydata.org/pandas-docs/stable/user_guide/indexing.html#returning-a-view-versus-a-copy\n",
      "  wlk['mean'] = wlk.apply(lambda row: srednie['c7(GA)'].iloc[0]\n"
     ]
    }
   ],
   "source": [
    "wlk['mean'] = wlk.apply(lambda row: srednie['c7(GA)'].iloc[0] \n",
    "                        if row['ferma'] == 1 else (srednie['c7(GA)'].iloc[1] \n",
    "                        if row['ferma'] == 2 else (srednie['c7(GA)'].iloc[2] \n",
    "                        if row['ferma'] == 3 else '0')), axis = 1)"
   ]
  },
  {
   "cell_type": "code",
   "execution_count": 8,
   "id": "fbb35872",
   "metadata": {},
   "outputs": [
    {
     "data": {
      "text/html": [
       "<div>\n",
       "<style scoped>\n",
       "    .dataframe tbody tr th:only-of-type {\n",
       "        vertical-align: middle;\n",
       "    }\n",
       "\n",
       "    .dataframe tbody tr th {\n",
       "        vertical-align: top;\n",
       "    }\n",
       "\n",
       "    .dataframe thead th {\n",
       "        text-align: right;\n",
       "    }\n",
       "</style>\n",
       "<table border=\"1\" class=\"dataframe\">\n",
       "  <thead>\n",
       "    <tr style=\"text-align: right;\">\n",
       "      <th></th>\n",
       "      <th>rok</th>\n",
       "      <th>ferma</th>\n",
       "      <th>nr os</th>\n",
       "      <th>nr oj</th>\n",
       "      <th>nr ma</th>\n",
       "      <th>c7(GA)</th>\n",
       "      <th>byp</th>\n",
       "      <th>mean</th>\n",
       "    </tr>\n",
       "  </thead>\n",
       "  <tbody>\n",
       "    <tr>\n",
       "      <th>0</th>\n",
       "      <td>88</td>\n",
       "      <td>1</td>\n",
       "      <td>3788</td>\n",
       "      <td>1285</td>\n",
       "      <td>1287</td>\n",
       "      <td>3</td>\n",
       "      <td>0.2</td>\n",
       "      <td>2.652542</td>\n",
       "    </tr>\n",
       "    <tr>\n",
       "      <th>1</th>\n",
       "      <td>88</td>\n",
       "      <td>1</td>\n",
       "      <td>3789</td>\n",
       "      <td>2211</td>\n",
       "      <td>1303</td>\n",
       "      <td>3</td>\n",
       "      <td>0.2</td>\n",
       "      <td>2.652542</td>\n",
       "    </tr>\n",
       "    <tr>\n",
       "      <th>2</th>\n",
       "      <td>88</td>\n",
       "      <td>1</td>\n",
       "      <td>3790</td>\n",
       "      <td>1285</td>\n",
       "      <td>1287</td>\n",
       "      <td>3</td>\n",
       "      <td>0.2</td>\n",
       "      <td>2.652542</td>\n",
       "    </tr>\n",
       "    <tr>\n",
       "      <th>3</th>\n",
       "      <td>88</td>\n",
       "      <td>1</td>\n",
       "      <td>3791</td>\n",
       "      <td>2211</td>\n",
       "      <td>1303</td>\n",
       "      <td>3</td>\n",
       "      <td>0.2</td>\n",
       "      <td>2.652542</td>\n",
       "    </tr>\n",
       "    <tr>\n",
       "      <th>4</th>\n",
       "      <td>88</td>\n",
       "      <td>1</td>\n",
       "      <td>3793</td>\n",
       "      <td>2211</td>\n",
       "      <td>1303</td>\n",
       "      <td>3</td>\n",
       "      <td>0.2</td>\n",
       "      <td>2.652542</td>\n",
       "    </tr>\n",
       "    <tr>\n",
       "      <th>...</th>\n",
       "      <td>...</td>\n",
       "      <td>...</td>\n",
       "      <td>...</td>\n",
       "      <td>...</td>\n",
       "      <td>...</td>\n",
       "      <td>...</td>\n",
       "      <td>...</td>\n",
       "      <td>...</td>\n",
       "    </tr>\n",
       "    <tr>\n",
       "      <th>2951</th>\n",
       "      <td>93</td>\n",
       "      <td>3</td>\n",
       "      <td>6660</td>\n",
       "      <td>4409</td>\n",
       "      <td>2677</td>\n",
       "      <td>3</td>\n",
       "      <td>0.2</td>\n",
       "      <td>2.492036</td>\n",
       "    </tr>\n",
       "    <tr>\n",
       "      <th>2952</th>\n",
       "      <td>93</td>\n",
       "      <td>3</td>\n",
       "      <td>6661</td>\n",
       "      <td>4701</td>\n",
       "      <td>6341</td>\n",
       "      <td>3</td>\n",
       "      <td>0.2</td>\n",
       "      <td>2.492036</td>\n",
       "    </tr>\n",
       "    <tr>\n",
       "      <th>2953</th>\n",
       "      <td>93</td>\n",
       "      <td>3</td>\n",
       "      <td>6662</td>\n",
       "      <td>4701</td>\n",
       "      <td>6341</td>\n",
       "      <td>3</td>\n",
       "      <td>0.2</td>\n",
       "      <td>2.492036</td>\n",
       "    </tr>\n",
       "    <tr>\n",
       "      <th>2954</th>\n",
       "      <td>93</td>\n",
       "      <td>3</td>\n",
       "      <td>6663</td>\n",
       "      <td>6368</td>\n",
       "      <td>6369</td>\n",
       "      <td>3</td>\n",
       "      <td>0.2</td>\n",
       "      <td>2.492036</td>\n",
       "    </tr>\n",
       "    <tr>\n",
       "      <th>2955</th>\n",
       "      <td>93</td>\n",
       "      <td>3</td>\n",
       "      <td>6664</td>\n",
       "      <td>4659</td>\n",
       "      <td>1707</td>\n",
       "      <td>3</td>\n",
       "      <td>0.2</td>\n",
       "      <td>2.492036</td>\n",
       "    </tr>\n",
       "  </tbody>\n",
       "</table>\n",
       "<p>2956 rows × 8 columns</p>\n",
       "</div>"
      ],
      "text/plain": [
       "      rok  ferma  nr os  nr oj  nr ma  c7(GA)  byp      mean\n",
       "0      88      1   3788   1285   1287       3  0.2  2.652542\n",
       "1      88      1   3789   2211   1303       3  0.2  2.652542\n",
       "2      88      1   3790   1285   1287       3  0.2  2.652542\n",
       "3      88      1   3791   2211   1303       3  0.2  2.652542\n",
       "4      88      1   3793   2211   1303       3  0.2  2.652542\n",
       "...   ...    ...    ...    ...    ...     ...  ...       ...\n",
       "2951   93      3   6660   4409   2677       3  0.2  2.492036\n",
       "2952   93      3   6661   4701   6341       3  0.2  2.492036\n",
       "2953   93      3   6662   4701   6341       3  0.2  2.492036\n",
       "2954   93      3   6663   6368   6369       3  0.2  2.492036\n",
       "2955   93      3   6664   4659   1707       3  0.2  2.492036\n",
       "\n",
       "[2956 rows x 8 columns]"
      ]
     },
     "execution_count": 8,
     "metadata": {},
     "output_type": "execute_result"
    }
   ],
   "source": [
    "wlk"
   ]
  },
  {
   "cell_type": "code",
   "execution_count": 9,
   "id": "3d42d57e",
   "metadata": {},
   "outputs": [
    {
     "data": {
      "text/plain": [
       "2.492036    1758\n",
       "2.973148    1080\n",
       "2.652542     118\n",
       "Name: mean, dtype: int64"
      ]
     },
     "execution_count": 9,
     "metadata": {},
     "output_type": "execute_result"
    }
   ],
   "source": [
    "wlk['mean'].value_counts()"
   ]
  },
  {
   "cell_type": "code",
   "execution_count": 25,
   "id": "2a21e7c9",
   "metadata": {},
   "outputs": [],
   "source": [
    "wlk = wlk.assign(G=lambda x: (x['byp'] *(x['c7(GA)'] - x['mean']) + x['mean']))"
   ]
  },
  {
   "cell_type": "code",
   "execution_count": 11,
   "id": "fb95129d",
   "metadata": {},
   "outputs": [
    {
     "data": {
      "text/plain": [
       "2.978519    1054\n",
       "2.593629     881\n",
       "2.393629     833\n",
       "2.722034      81\n",
       "2.193629      39\n",
       "2.522034      33\n",
       "2.778519      23\n",
       "2.322034       4\n",
       "2.578519       3\n",
       "3.193629       2\n",
       "2.993629       1\n",
       "3.393629       1\n",
       "3.793629       1\n",
       "Name: G, dtype: int64"
      ]
     },
     "execution_count": 11,
     "metadata": {},
     "output_type": "execute_result"
    }
   ],
   "source": [
    "wlk['G'].value_counts(sort = True)"
   ]
  },
  {
   "cell_type": "markdown",
   "id": "1d132b5b",
   "metadata": {},
   "source": [
    "# Selekcja"
   ]
  },
  {
   "cell_type": "markdown",
   "id": "78c4d82f",
   "metadata": {},
   "source": [
    "$$ ∆A = (A_1 - A_0)$$\n",
    "$$ A_1 = {A_o + A_m \\over 2}$$"
   ]
  },
  {
   "cell_type": "markdown",
   "id": "b0cd386e",
   "metadata": {},
   "source": [
    "________________"
   ]
  },
  {
   "cell_type": "code",
   "execution_count": 422,
   "id": "265c298e",
   "metadata": {},
   "outputs": [],
   "source": [
    "wlk['G_ma'] = 0\n",
    "wlk['G_oj'] = 0"
   ]
  },
  {
   "cell_type": "code",
   "execution_count": 423,
   "id": "abb2a7c9",
   "metadata": {},
   "outputs": [
    {
     "name": "stderr",
     "output_type": "stream",
     "text": [
      "/var/folders/n2/w02nhlvs4x56ssy2xm7332lw0000gn/T/ipykernel_38139/174873766.py:6: SettingWithCopyWarning: \n",
      "A value is trying to be set on a copy of a slice from a DataFrame\n",
      "\n",
      "See the caveats in the documentation: https://pandas.pydata.org/pandas-docs/stable/user_guide/indexing.html#returning-a-view-versus-a-copy\n",
      "  wlk['G_oj'][index2] = g_oj\n",
      "/var/folders/n2/w02nhlvs4x56ssy2xm7332lw0000gn/T/ipykernel_38139/174873766.py:16: SettingWithCopyWarning: \n",
      "A value is trying to be set on a copy of a slice from a DataFrame\n",
      "\n",
      "See the caveats in the documentation: https://pandas.pydata.org/pandas-docs/stable/user_guide/indexing.html#returning-a-view-versus-a-copy\n",
      "  wlk['G_ma'][index2] = g_ma\n"
     ]
    }
   ],
   "source": [
    "for index, row in wlk.iterrows():\n",
    "    nr_ojciec = wlk['nr oj'][index]\n",
    "    g_oj = wlk['G'][index]\n",
    "    for index2, row2 in wlk.iterrows():\n",
    "        if nr_ojciec == wlk['nr os'][index2]:\n",
    "            wlk['G_oj'][index2] = g_oj\n",
    "            break\n",
    "        else:\n",
    "            continue\n",
    "            \n",
    "for index, row in wlk.iterrows():\n",
    "    nr_matka = wlk['nr ma'][index]\n",
    "    g_ma = wlk['G'][index]\n",
    "    for index2, row2 in wlk.iterrows():\n",
    "        if nr_matka == wlk['nr os'][index2]:\n",
    "            wlk['G_ma'][index2] = g_ma\n",
    "            break\n",
    "        else:\n",
    "            continue"
   ]
  },
  {
   "cell_type": "code",
   "execution_count": 431,
   "id": "07ec8985",
   "metadata": {},
   "outputs": [],
   "source": [
    "selekcja = wlk"
   ]
  },
  {
   "cell_type": "code",
   "execution_count": 12,
   "id": "4b9a68d7",
   "metadata": {},
   "outputs": [
    {
     "ename": "KeyError",
     "evalue": "'G_oj'",
     "output_type": "error",
     "traceback": [
      "\u001b[0;31m---------------------------------------------------------------------------\u001b[0m",
      "\u001b[0;31mKeyError\u001b[0m                                  Traceback (most recent call last)",
      "File \u001b[0;32m~/opt/anaconda3/lib/python3.9/site-packages/pandas/core/indexes/base.py:3621\u001b[0m, in \u001b[0;36mIndex.get_loc\u001b[0;34m(self, key, method, tolerance)\u001b[0m\n\u001b[1;32m   3620\u001b[0m \u001b[38;5;28;01mtry\u001b[39;00m:\n\u001b[0;32m-> 3621\u001b[0m     \u001b[38;5;28;01mreturn\u001b[39;00m \u001b[38;5;28;43mself\u001b[39;49m\u001b[38;5;241;43m.\u001b[39;49m\u001b[43m_engine\u001b[49m\u001b[38;5;241;43m.\u001b[39;49m\u001b[43mget_loc\u001b[49m\u001b[43m(\u001b[49m\u001b[43mcasted_key\u001b[49m\u001b[43m)\u001b[49m\n\u001b[1;32m   3622\u001b[0m \u001b[38;5;28;01mexcept\u001b[39;00m \u001b[38;5;167;01mKeyError\u001b[39;00m \u001b[38;5;28;01mas\u001b[39;00m err:\n",
      "File \u001b[0;32m~/opt/anaconda3/lib/python3.9/site-packages/pandas/_libs/index.pyx:136\u001b[0m, in \u001b[0;36mpandas._libs.index.IndexEngine.get_loc\u001b[0;34m()\u001b[0m\n",
      "File \u001b[0;32m~/opt/anaconda3/lib/python3.9/site-packages/pandas/_libs/index.pyx:163\u001b[0m, in \u001b[0;36mpandas._libs.index.IndexEngine.get_loc\u001b[0;34m()\u001b[0m\n",
      "File \u001b[0;32mpandas/_libs/hashtable_class_helper.pxi:5198\u001b[0m, in \u001b[0;36mpandas._libs.hashtable.PyObjectHashTable.get_item\u001b[0;34m()\u001b[0m\n",
      "File \u001b[0;32mpandas/_libs/hashtable_class_helper.pxi:5206\u001b[0m, in \u001b[0;36mpandas._libs.hashtable.PyObjectHashTable.get_item\u001b[0;34m()\u001b[0m\n",
      "\u001b[0;31mKeyError\u001b[0m: 'G_oj'",
      "\nThe above exception was the direct cause of the following exception:\n",
      "\u001b[0;31mKeyError\u001b[0m                                  Traceback (most recent call last)",
      "Input \u001b[0;32mIn [12]\u001b[0m, in \u001b[0;36m<cell line: 1>\u001b[0;34m()\u001b[0m\n\u001b[0;32m----> 1\u001b[0m \u001b[43mwlk\u001b[49m\u001b[43m[\u001b[49m\u001b[38;5;124;43m'\u001b[39;49m\u001b[38;5;124;43mG_oj\u001b[39;49m\u001b[38;5;124;43m'\u001b[39;49m\u001b[43m]\u001b[49m\u001b[38;5;241m.\u001b[39mvalue_counts()\n",
      "File \u001b[0;32m~/opt/anaconda3/lib/python3.9/site-packages/pandas/core/frame.py:3505\u001b[0m, in \u001b[0;36mDataFrame.__getitem__\u001b[0;34m(self, key)\u001b[0m\n\u001b[1;32m   3503\u001b[0m \u001b[38;5;28;01mif\u001b[39;00m \u001b[38;5;28mself\u001b[39m\u001b[38;5;241m.\u001b[39mcolumns\u001b[38;5;241m.\u001b[39mnlevels \u001b[38;5;241m>\u001b[39m \u001b[38;5;241m1\u001b[39m:\n\u001b[1;32m   3504\u001b[0m     \u001b[38;5;28;01mreturn\u001b[39;00m \u001b[38;5;28mself\u001b[39m\u001b[38;5;241m.\u001b[39m_getitem_multilevel(key)\n\u001b[0;32m-> 3505\u001b[0m indexer \u001b[38;5;241m=\u001b[39m \u001b[38;5;28;43mself\u001b[39;49m\u001b[38;5;241;43m.\u001b[39;49m\u001b[43mcolumns\u001b[49m\u001b[38;5;241;43m.\u001b[39;49m\u001b[43mget_loc\u001b[49m\u001b[43m(\u001b[49m\u001b[43mkey\u001b[49m\u001b[43m)\u001b[49m\n\u001b[1;32m   3506\u001b[0m \u001b[38;5;28;01mif\u001b[39;00m is_integer(indexer):\n\u001b[1;32m   3507\u001b[0m     indexer \u001b[38;5;241m=\u001b[39m [indexer]\n",
      "File \u001b[0;32m~/opt/anaconda3/lib/python3.9/site-packages/pandas/core/indexes/base.py:3623\u001b[0m, in \u001b[0;36mIndex.get_loc\u001b[0;34m(self, key, method, tolerance)\u001b[0m\n\u001b[1;32m   3621\u001b[0m     \u001b[38;5;28;01mreturn\u001b[39;00m \u001b[38;5;28mself\u001b[39m\u001b[38;5;241m.\u001b[39m_engine\u001b[38;5;241m.\u001b[39mget_loc(casted_key)\n\u001b[1;32m   3622\u001b[0m \u001b[38;5;28;01mexcept\u001b[39;00m \u001b[38;5;167;01mKeyError\u001b[39;00m \u001b[38;5;28;01mas\u001b[39;00m err:\n\u001b[0;32m-> 3623\u001b[0m     \u001b[38;5;28;01mraise\u001b[39;00m \u001b[38;5;167;01mKeyError\u001b[39;00m(key) \u001b[38;5;28;01mfrom\u001b[39;00m \u001b[38;5;21;01merr\u001b[39;00m\n\u001b[1;32m   3624\u001b[0m \u001b[38;5;28;01mexcept\u001b[39;00m \u001b[38;5;167;01mTypeError\u001b[39;00m:\n\u001b[1;32m   3625\u001b[0m     \u001b[38;5;66;03m# If we have a listlike key, _check_indexing_error will raise\u001b[39;00m\n\u001b[1;32m   3626\u001b[0m     \u001b[38;5;66;03m#  InvalidIndexError. Otherwise we fall through and re-raise\u001b[39;00m\n\u001b[1;32m   3627\u001b[0m     \u001b[38;5;66;03m#  the TypeError.\u001b[39;00m\n\u001b[1;32m   3628\u001b[0m     \u001b[38;5;28mself\u001b[39m\u001b[38;5;241m.\u001b[39m_check_indexing_error(key)\n",
      "\u001b[0;31mKeyError\u001b[0m: 'G_oj'"
     ]
    }
   ],
   "source": [
    "wlk['G_oj'].value_counts()"
   ]
  },
  {
   "cell_type": "code",
   "execution_count": null,
   "id": "0e62125e",
   "metadata": {},
   "outputs": [],
   "source": [
    "wlk['G_oj'].value_counts()\n",
    "wlk['G_ma'].value_counts()"
   ]
  },
  {
   "cell_type": "code",
   "execution_count": 434,
   "id": "272c26c0",
   "metadata": {},
   "outputs": [
    {
     "data": {
      "text/plain": [
       "3322    45\n",
       "116     43\n",
       "93      39\n",
       "2927    37\n",
       "849     33\n",
       "3774    31\n",
       "722     30\n",
       "2130    30\n",
       "2379    30\n",
       "3431    30\n",
       "2152    29\n",
       "363     28\n",
       "1830    28\n",
       "185     27\n",
       "2502    26\n",
       "796     26\n",
       "517     26\n",
       "2989    26\n",
       "3779    25\n",
       "672     24\n",
       "Name: nr oj, dtype: int64"
      ]
     },
     "execution_count": 434,
     "metadata": {},
     "output_type": "execute_result"
    }
   ],
   "source": [
    "wlk['nr oj'].value_counts().head(20)"
   ]
  },
  {
   "cell_type": "code",
   "execution_count": 435,
   "id": "d6324180",
   "metadata": {},
   "outputs": [
    {
     "data": {
      "text/html": [
       "<div>\n",
       "<style scoped>\n",
       "    .dataframe tbody tr th:only-of-type {\n",
       "        vertical-align: middle;\n",
       "    }\n",
       "\n",
       "    .dataframe tbody tr th {\n",
       "        vertical-align: top;\n",
       "    }\n",
       "\n",
       "    .dataframe thead th {\n",
       "        text-align: right;\n",
       "    }\n",
       "</style>\n",
       "<table border=\"1\" class=\"dataframe\">\n",
       "  <thead>\n",
       "    <tr style=\"text-align: right;\">\n",
       "      <th></th>\n",
       "      <th>rok</th>\n",
       "      <th>ferma</th>\n",
       "      <th>nr os</th>\n",
       "      <th>nr oj</th>\n",
       "      <th>nr ma</th>\n",
       "      <th>c1(BS)</th>\n",
       "      <th>byp</th>\n",
       "      <th>mean</th>\n",
       "      <th>G</th>\n",
       "      <th>G_ma</th>\n",
       "      <th>G_oj</th>\n",
       "    </tr>\n",
       "  </thead>\n",
       "  <tbody>\n",
       "  </tbody>\n",
       "</table>\n",
       "</div>"
      ],
      "text/plain": [
       "Empty DataFrame\n",
       "Columns: [rok, ferma, nr os, nr oj, nr ma, c1(BS), byp, mean, G, G_ma, G_oj]\n",
       "Index: []"
      ]
     },
     "execution_count": 435,
     "metadata": {},
     "output_type": "execute_result"
    }
   ],
   "source": [
    "wlk[wlk['nr os'] == 722]"
   ]
  },
  {
   "cell_type": "code",
   "execution_count": 446,
   "id": "82cef49a",
   "metadata": {},
   "outputs": [
    {
     "data": {
      "text/html": [
       "<div>\n",
       "<style scoped>\n",
       "    .dataframe tbody tr th:only-of-type {\n",
       "        vertical-align: middle;\n",
       "    }\n",
       "\n",
       "    .dataframe tbody tr th {\n",
       "        vertical-align: top;\n",
       "    }\n",
       "\n",
       "    .dataframe thead th {\n",
       "        text-align: right;\n",
       "    }\n",
       "</style>\n",
       "<table border=\"1\" class=\"dataframe\">\n",
       "  <thead>\n",
       "    <tr style=\"text-align: right;\">\n",
       "      <th></th>\n",
       "      <th>rok</th>\n",
       "      <th>ferma</th>\n",
       "      <th>nr os</th>\n",
       "      <th>nr oj</th>\n",
       "      <th>nr ma</th>\n",
       "      <th>c1(BS)</th>\n",
       "      <th>byp</th>\n",
       "      <th>mean</th>\n",
       "      <th>G</th>\n",
       "      <th>G_ma</th>\n",
       "      <th>G_oj</th>\n",
       "    </tr>\n",
       "  </thead>\n",
       "  <tbody>\n",
       "    <tr>\n",
       "      <th>0</th>\n",
       "      <td>88</td>\n",
       "      <td>1</td>\n",
       "      <td>3788</td>\n",
       "      <td>1285</td>\n",
       "      <td>1287</td>\n",
       "      <td>6</td>\n",
       "      <td>0.51</td>\n",
       "      <td>5.644068</td>\n",
       "      <td>5.825593</td>\n",
       "      <td>0.000000</td>\n",
       "      <td>0.000000</td>\n",
       "    </tr>\n",
       "    <tr>\n",
       "      <th>1</th>\n",
       "      <td>88</td>\n",
       "      <td>1</td>\n",
       "      <td>3789</td>\n",
       "      <td>2211</td>\n",
       "      <td>1303</td>\n",
       "      <td>6</td>\n",
       "      <td>0.51</td>\n",
       "      <td>5.644068</td>\n",
       "      <td>5.825593</td>\n",
       "      <td>0.000000</td>\n",
       "      <td>0.000000</td>\n",
       "    </tr>\n",
       "    <tr>\n",
       "      <th>2</th>\n",
       "      <td>88</td>\n",
       "      <td>1</td>\n",
       "      <td>3790</td>\n",
       "      <td>1285</td>\n",
       "      <td>1287</td>\n",
       "      <td>6</td>\n",
       "      <td>0.51</td>\n",
       "      <td>5.644068</td>\n",
       "      <td>5.825593</td>\n",
       "      <td>0.000000</td>\n",
       "      <td>5.825593</td>\n",
       "    </tr>\n",
       "    <tr>\n",
       "      <th>3</th>\n",
       "      <td>88</td>\n",
       "      <td>1</td>\n",
       "      <td>3791</td>\n",
       "      <td>2211</td>\n",
       "      <td>1303</td>\n",
       "      <td>4</td>\n",
       "      <td>0.51</td>\n",
       "      <td>5.644068</td>\n",
       "      <td>4.805593</td>\n",
       "      <td>5.825593</td>\n",
       "      <td>0.000000</td>\n",
       "    </tr>\n",
       "    <tr>\n",
       "      <th>4</th>\n",
       "      <td>88</td>\n",
       "      <td>1</td>\n",
       "      <td>3793</td>\n",
       "      <td>2211</td>\n",
       "      <td>1303</td>\n",
       "      <td>4</td>\n",
       "      <td>0.51</td>\n",
       "      <td>5.644068</td>\n",
       "      <td>4.805593</td>\n",
       "      <td>0.000000</td>\n",
       "      <td>0.000000</td>\n",
       "    </tr>\n",
       "    <tr>\n",
       "      <th>...</th>\n",
       "      <td>...</td>\n",
       "      <td>...</td>\n",
       "      <td>...</td>\n",
       "      <td>...</td>\n",
       "      <td>...</td>\n",
       "      <td>...</td>\n",
       "      <td>...</td>\n",
       "      <td>...</td>\n",
       "      <td>...</td>\n",
       "      <td>...</td>\n",
       "      <td>...</td>\n",
       "    </tr>\n",
       "    <tr>\n",
       "      <th>2951</th>\n",
       "      <td>93</td>\n",
       "      <td>3</td>\n",
       "      <td>6660</td>\n",
       "      <td>4409</td>\n",
       "      <td>2677</td>\n",
       "      <td>6</td>\n",
       "      <td>0.51</td>\n",
       "      <td>4.559158</td>\n",
       "      <td>5.293987</td>\n",
       "      <td>0.000000</td>\n",
       "      <td>0.000000</td>\n",
       "    </tr>\n",
       "    <tr>\n",
       "      <th>2952</th>\n",
       "      <td>93</td>\n",
       "      <td>3</td>\n",
       "      <td>6661</td>\n",
       "      <td>4701</td>\n",
       "      <td>6341</td>\n",
       "      <td>6</td>\n",
       "      <td>0.51</td>\n",
       "      <td>4.559158</td>\n",
       "      <td>5.293987</td>\n",
       "      <td>0.000000</td>\n",
       "      <td>0.000000</td>\n",
       "    </tr>\n",
       "    <tr>\n",
       "      <th>2953</th>\n",
       "      <td>93</td>\n",
       "      <td>3</td>\n",
       "      <td>6662</td>\n",
       "      <td>4701</td>\n",
       "      <td>6341</td>\n",
       "      <td>6</td>\n",
       "      <td>0.51</td>\n",
       "      <td>4.559158</td>\n",
       "      <td>5.293987</td>\n",
       "      <td>0.000000</td>\n",
       "      <td>0.000000</td>\n",
       "    </tr>\n",
       "    <tr>\n",
       "      <th>2954</th>\n",
       "      <td>93</td>\n",
       "      <td>3</td>\n",
       "      <td>6663</td>\n",
       "      <td>6368</td>\n",
       "      <td>6369</td>\n",
       "      <td>6</td>\n",
       "      <td>0.51</td>\n",
       "      <td>4.559158</td>\n",
       "      <td>5.293987</td>\n",
       "      <td>0.000000</td>\n",
       "      <td>0.000000</td>\n",
       "    </tr>\n",
       "    <tr>\n",
       "      <th>2955</th>\n",
       "      <td>93</td>\n",
       "      <td>3</td>\n",
       "      <td>6664</td>\n",
       "      <td>4659</td>\n",
       "      <td>1707</td>\n",
       "      <td>6</td>\n",
       "      <td>0.51</td>\n",
       "      <td>4.559158</td>\n",
       "      <td>5.293987</td>\n",
       "      <td>0.000000</td>\n",
       "      <td>0.000000</td>\n",
       "    </tr>\n",
       "  </tbody>\n",
       "</table>\n",
       "<p>2956 rows × 11 columns</p>\n",
       "</div>"
      ],
      "text/plain": [
       "      rok  ferma  nr os  nr oj  nr ma  c1(BS)   byp      mean         G  \\\n",
       "0      88      1   3788   1285   1287       6  0.51  5.644068  5.825593   \n",
       "1      88      1   3789   2211   1303       6  0.51  5.644068  5.825593   \n",
       "2      88      1   3790   1285   1287       6  0.51  5.644068  5.825593   \n",
       "3      88      1   3791   2211   1303       4  0.51  5.644068  4.805593   \n",
       "4      88      1   3793   2211   1303       4  0.51  5.644068  4.805593   \n",
       "...   ...    ...    ...    ...    ...     ...   ...       ...       ...   \n",
       "2951   93      3   6660   4409   2677       6  0.51  4.559158  5.293987   \n",
       "2952   93      3   6661   4701   6341       6  0.51  4.559158  5.293987   \n",
       "2953   93      3   6662   4701   6341       6  0.51  4.559158  5.293987   \n",
       "2954   93      3   6663   6368   6369       6  0.51  4.559158  5.293987   \n",
       "2955   93      3   6664   4659   1707       6  0.51  4.559158  5.293987   \n",
       "\n",
       "          G_ma      G_oj  \n",
       "0     0.000000  0.000000  \n",
       "1     0.000000  0.000000  \n",
       "2     0.000000  5.825593  \n",
       "3     5.825593  0.000000  \n",
       "4     0.000000  0.000000  \n",
       "...        ...       ...  \n",
       "2951  0.000000  0.000000  \n",
       "2952  0.000000  0.000000  \n",
       "2953  0.000000  0.000000  \n",
       "2954  0.000000  0.000000  \n",
       "2955  0.000000  0.000000  \n",
       "\n",
       "[2956 rows x 11 columns]"
      ]
     },
     "execution_count": 446,
     "metadata": {},
     "output_type": "execute_result"
    }
   ],
   "source": [
    "selekcja  = wlk\n",
    "selekcja"
   ]
  },
  {
   "cell_type": "code",
   "execution_count": 449,
   "id": "055b402d",
   "metadata": {},
   "outputs": [],
   "source": [
    "selekcja = selekcja.drop(selekcja[(selekcja.G_oj == 0)].index)\n",
    "selekcja = selekcja.drop(selekcja[(selekcja.G_ma == 0)].index)"
   ]
  },
  {
   "cell_type": "code",
   "execution_count": 450,
   "id": "6a97bfcf",
   "metadata": {},
   "outputs": [
    {
     "data": {
      "text/html": [
       "<div>\n",
       "<style scoped>\n",
       "    .dataframe tbody tr th:only-of-type {\n",
       "        vertical-align: middle;\n",
       "    }\n",
       "\n",
       "    .dataframe tbody tr th {\n",
       "        vertical-align: top;\n",
       "    }\n",
       "\n",
       "    .dataframe thead th {\n",
       "        text-align: right;\n",
       "    }\n",
       "</style>\n",
       "<table border=\"1\" class=\"dataframe\">\n",
       "  <thead>\n",
       "    <tr style=\"text-align: right;\">\n",
       "      <th></th>\n",
       "      <th>rok</th>\n",
       "      <th>ferma</th>\n",
       "      <th>nr os</th>\n",
       "      <th>nr oj</th>\n",
       "      <th>nr ma</th>\n",
       "      <th>c1(BS)</th>\n",
       "      <th>byp</th>\n",
       "      <th>mean</th>\n",
       "      <th>G</th>\n",
       "      <th>G_ma</th>\n",
       "      <th>G_oj</th>\n",
       "    </tr>\n",
       "  </thead>\n",
       "  <tbody>\n",
       "  </tbody>\n",
       "</table>\n",
       "</div>"
      ],
      "text/plain": [
       "Empty DataFrame\n",
       "Columns: [rok, ferma, nr os, nr oj, nr ma, c1(BS), byp, mean, G, G_ma, G_oj]\n",
       "Index: []"
      ]
     },
     "execution_count": 450,
     "metadata": {},
     "output_type": "execute_result"
    }
   ],
   "source": [
    "selekcja"
   ]
  },
  {
   "cell_type": "markdown",
   "id": "84086b01",
   "metadata": {},
   "source": [
    "_________"
   ]
  },
  {
   "cell_type": "markdown",
   "id": "226a319b",
   "metadata": {},
   "source": [
    "# Różnica selekcyjna dla wielkości"
   ]
  },
  {
   "cell_type": "code",
   "execution_count": 26,
   "id": "2e7c7e87",
   "metadata": {},
   "outputs": [],
   "source": [
    "diff = wlk[['rok','ferma','G']]"
   ]
  },
  {
   "cell_type": "code",
   "execution_count": 27,
   "id": "34f44309",
   "metadata": {},
   "outputs": [
    {
     "data": {
      "text/html": [
       "<div>\n",
       "<style scoped>\n",
       "    .dataframe tbody tr th:only-of-type {\n",
       "        vertical-align: middle;\n",
       "    }\n",
       "\n",
       "    .dataframe tbody tr th {\n",
       "        vertical-align: top;\n",
       "    }\n",
       "\n",
       "    .dataframe thead th {\n",
       "        text-align: right;\n",
       "    }\n",
       "</style>\n",
       "<table border=\"1\" class=\"dataframe\">\n",
       "  <thead>\n",
       "    <tr style=\"text-align: right;\">\n",
       "      <th></th>\n",
       "      <th></th>\n",
       "      <th>G</th>\n",
       "    </tr>\n",
       "    <tr>\n",
       "      <th>ferma</th>\n",
       "      <th>rok</th>\n",
       "      <th></th>\n",
       "    </tr>\n",
       "  </thead>\n",
       "  <tbody>\n",
       "    <tr>\n",
       "      <th rowspan=\"5\" valign=\"top\">1</th>\n",
       "      <th>88</th>\n",
       "      <td>2.693462</td>\n",
       "    </tr>\n",
       "    <tr>\n",
       "      <th>89</th>\n",
       "      <td>2.556180</td>\n",
       "    </tr>\n",
       "    <tr>\n",
       "      <th>90</th>\n",
       "      <td>2.722034</td>\n",
       "    </tr>\n",
       "    <tr>\n",
       "      <th>91</th>\n",
       "      <td>2.702034</td>\n",
       "    </tr>\n",
       "    <tr>\n",
       "      <th>92</th>\n",
       "      <td>2.722034</td>\n",
       "    </tr>\n",
       "    <tr>\n",
       "      <th rowspan=\"5\" valign=\"top\">2</th>\n",
       "      <th>88</th>\n",
       "      <td>2.966019</td>\n",
       "    </tr>\n",
       "    <tr>\n",
       "      <th>89</th>\n",
       "      <td>2.974181</td>\n",
       "    </tr>\n",
       "    <tr>\n",
       "      <th>90</th>\n",
       "      <td>2.973831</td>\n",
       "    </tr>\n",
       "    <tr>\n",
       "      <th>91</th>\n",
       "      <td>2.978519</td>\n",
       "    </tr>\n",
       "    <tr>\n",
       "      <th>92</th>\n",
       "      <td>2.972136</td>\n",
       "    </tr>\n",
       "    <tr>\n",
       "      <th rowspan=\"6\" valign=\"top\">3</th>\n",
       "      <th>88</th>\n",
       "      <td>2.494534</td>\n",
       "    </tr>\n",
       "    <tr>\n",
       "      <th>89</th>\n",
       "      <td>2.484091</td>\n",
       "    </tr>\n",
       "    <tr>\n",
       "      <th>90</th>\n",
       "      <td>2.469410</td>\n",
       "    </tr>\n",
       "    <tr>\n",
       "      <th>91</th>\n",
       "      <td>2.492823</td>\n",
       "    </tr>\n",
       "    <tr>\n",
       "      <th>92</th>\n",
       "      <td>2.560296</td>\n",
       "    </tr>\n",
       "    <tr>\n",
       "      <th>93</th>\n",
       "      <td>2.534370</td>\n",
       "    </tr>\n",
       "  </tbody>\n",
       "</table>\n",
       "</div>"
      ],
      "text/plain": [
       "                  G\n",
       "ferma rok          \n",
       "1     88   2.693462\n",
       "      89   2.556180\n",
       "      90   2.722034\n",
       "      91   2.702034\n",
       "      92   2.722034\n",
       "2     88   2.966019\n",
       "      89   2.974181\n",
       "      90   2.973831\n",
       "      91   2.978519\n",
       "      92   2.972136\n",
       "3     88   2.494534\n",
       "      89   2.484091\n",
       "      90   2.469410\n",
       "      91   2.492823\n",
       "      92   2.560296\n",
       "      93   2.534370"
      ]
     },
     "execution_count": 27,
     "metadata": {},
     "output_type": "execute_result"
    }
   ],
   "source": [
    "diff = diff.groupby(['ferma','rok']).mean()\n",
    "diff"
   ]
  },
  {
   "cell_type": "markdown",
   "id": "c938df57",
   "metadata": {},
   "source": [
    "# Wykresy dla wielkości"
   ]
  },
  {
   "cell_type": "code",
   "execution_count": 28,
   "id": "19507785",
   "metadata": {},
   "outputs": [
    {
     "data": {
      "image/png": "[encoded data removed]",
      "text/plain": [
       "<Figure size 432x288 with 1 Axes>"
      ]
     },
     "metadata": {
      "needs_background": "light"
     },
     "output_type": "display_data"
    }
   ],
   "source": [
    "import matplotlib.pyplot as plt\n",
    "wlk['G'].round(2).value_counts().round(2).plot(kind='barh')\n",
    "plt.title(\"Rozklad wartosci dla wartosci hodowlanej dla wygladu ogolnego osobnikow\")\n",
    "plt.grid()"
   ]
  },
  {
   "cell_type": "code",
   "execution_count": 28,
   "id": "71cc7539",
   "metadata": {},
   "outputs": [
    {
     "data": {
      "image/png": "[encoded data removed]",
      "text/plain": [
       "<Figure size 1080x504 with 1 Axes>"
      ]
     },
     "metadata": {
      "needs_background": "light"
     },
     "output_type": "display_data"
    }
   ],
   "source": [
    "import matplotlib.pyplot as plt\n",
    "# plot data\n",
    "fig, ax = plt.subplots(figsize=(15,7))\n",
    "# use unstack()\n",
    "wlk.groupby(['rok','ferma']).mean()['G'].unstack().plot(ax=ax)\n",
    "plt.title(\"Wartosc hodowlana na przestrzeni lat dla wygladu ogolnego osobnikow\")\n",
    "plt.grid()"
   ]
  },
  {
   "cell_type": "markdown",
   "id": "2596b272",
   "metadata": {},
   "source": [
    "#"
   ]
  },
  {
   "cell_type": "code",
   "execution_count": null,
   "id": "37f0157d",
   "metadata": {},
   "outputs": [],
   "source": []
  }
 ],
 "metadata": {
  "kernelspec": {
   "display_name": "Python 3 (ipykernel)",
   "language": "python",
   "name": "python3"
  },
  "language_info": {
   "codemirror_mode": {
    "name": "ipython",
    "version": 3
   },
   "file_extension": ".py",
   "mimetype": "text/x-python",
   "name": "python",
   "nbconvert_exporter": "python",
   "pygments_lexer": "ipython3",
   "version": "3.9.12"
  }
 },
 "nbformat": 4,
 "nbformat_minor": 5
}
