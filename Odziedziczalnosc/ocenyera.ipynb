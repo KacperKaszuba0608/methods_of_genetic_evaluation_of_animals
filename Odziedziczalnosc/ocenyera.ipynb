{
 "cells": [
  {
   "cell_type": "code",
   "execution_count": 13,
   "metadata": {
    "colab": {
     "base_uri": "https://localhost:8080/"
    },
    "id": "CJvGG0ikMqs7",
    "outputId": "aa6380ff-0b4f-45d1-dc1b-17f9962a61e4"
   },
   "outputs": [
    {
     "name": "stderr",
     "output_type": "stream",
     "text": [
      "Installing package into ‘/usr/local/lib/R/site-library’\n",
      "(as ‘lib’ is unspecified)\n",
      "\n",
      "Installing package into ‘/usr/local/lib/R/site-library’\n",
      "(as ‘lib’ is unspecified)\n",
      "\n"
     ]
    }
   ],
   "source": [
    "install.packages(\"lme4\")\n",
    "install.packages(\"optimization\")"
   ]
  },
  {
   "cell_type": "code",
   "execution_count": 14,
   "metadata": {
    "id": "nSRknXlyMisT"
   },
   "outputs": [],
   "source": [
    "library(lme4)\n",
    "library(optimization)"
   ]
  },
  {
   "cell_type": "code",
   "execution_count": 17,
   "metadata": {
    "colab": {
     "base_uri": "https://localhost:8080/",
     "height": 382
    },
    "id": "AZpYKUnhE2fz",
    "outputId": "9c0f7261-664b-4594-b0f3-12341f24138c"
   },
   "outputs": [
    {
     "data": {
      "text/plain": [
       "     nr.os          nr.oj          nr.ma           rok            ferma      \n",
       " Min.   :3303   Min.   :  27   Min.   :   3   Min.   :88.00   Min.   :1.000  \n",
       " 1st Qu.:4188   1st Qu.:2117   1st Qu.:1246   1st Qu.:89.00   1st Qu.:2.000  \n",
       " Median :4992   Median :3099   Median :2742   Median :89.00   Median :3.000  \n",
       " Mean   :4976   Mean   :2929   Mean   :2708   Mean   :89.53   Mean   :2.555  \n",
       " 3rd Qu.:5789   3rd Qu.:4025   3rd Qu.:3970   3rd Qu.:90.00   3rd Qu.:3.000  \n",
       " Max.   :6664   Max.   :6368   Max.   :6369   Max.   :93.00   Max.   :3.000  \n",
       "      liur           liod           c1.BS.          c2.CT.          c3.CP.     \n",
       " Min.   :0.00   Min.   :0.000   Min.   :2.000   Min.   :1.000   Min.   :1.000  \n",
       " 1st Qu.:4.00   1st Qu.:4.000   1st Qu.:4.000   1st Qu.:2.000   1st Qu.:3.000  \n",
       " Median :5.00   Median :5.000   Median :4.000   Median :3.000   Median :3.000  \n",
       " Mean   :5.32   Mean   :4.691   Mean   :4.416   Mean   :2.567   Mean   :2.848  \n",
       " 3rd Qu.:6.00   3rd Qu.:6.000   3rd Qu.:6.000   3rd Qu.:3.000   3rd Qu.:3.000  \n",
       " Max.   :9.00   Max.   :9.000   Max.   :6.000   Max.   :6.000   Max.   :6.000  \n",
       "     c4.CD.         c5.HL.          c6.PS.          c7.GA.           LOP       \n",
       " Min.   :1.00   Min.   :3.000   Min.   :2.000   Min.   :1.000   Min.   :20.00  \n",
       " 1st Qu.:3.00   1st Qu.:5.000   1st Qu.:5.000   1st Qu.:2.000   1st Qu.:25.00  \n",
       " Median :3.00   Median :6.000   Median :6.000   Median :3.000   Median :27.00  \n",
       " Mean   :2.83   Mean   :5.555   Mean   :5.471   Mean   :2.674   Mean   :26.36  \n",
       " 3rd Qu.:3.00   3rd Qu.:6.000   3rd Qu.:6.000   3rd Qu.:3.000   3rd Qu.:27.00  \n",
       " Max.   :6.00   Max.   :6.000   Max.   :9.000   Max.   :9.000   Max.   :30.00  "
      ]
     },
     "metadata": {},
     "output_type": "display_data"
    }
   ],
   "source": [
    "# Wczytanie danych genetycznych\n",
    "oceny <- read.table(\"oceny.csv\", header = TRUE, sep = ';')\n",
    "summary(oceny)"
   ]
  },
  {
   "cell_type": "code",
   "execution_count": 18,
   "metadata": {
    "colab": {
     "base_uri": "https://localhost:8080/",
     "height": 286
    },
    "id": "WDXqpL1rX-t3",
    "outputId": "80d40327-ca9f-446d-ae32-0a3b4ef1cc17"
   },
   "outputs": [
    {
     "data": {
      "text/html": [
       "<table class=\"dataframe\">\n",
       "<caption>A data.frame: 6 × 15</caption>\n",
       "<thead>\n",
       "\t<tr><th></th><th scope=col>nr.os</th><th scope=col>nr.oj</th><th scope=col>nr.ma</th><th scope=col>rok</th><th scope=col>ferma</th><th scope=col>liur</th><th scope=col>liod</th><th scope=col>c1.BS.</th><th scope=col>c2.CT.</th><th scope=col>c3.CP.</th><th scope=col>c4.CD.</th><th scope=col>c5.HL.</th><th scope=col>c6.PS.</th><th scope=col>c7.GA.</th><th scope=col>LOP</th></tr>\n",
       "\t<tr><th></th><th scope=col>&lt;int&gt;</th><th scope=col>&lt;int&gt;</th><th scope=col>&lt;int&gt;</th><th scope=col>&lt;int&gt;</th><th scope=col>&lt;int&gt;</th><th scope=col>&lt;int&gt;</th><th scope=col>&lt;int&gt;</th><th scope=col>&lt;int&gt;</th><th scope=col>&lt;int&gt;</th><th scope=col>&lt;int&gt;</th><th scope=col>&lt;int&gt;</th><th scope=col>&lt;int&gt;</th><th scope=col>&lt;int&gt;</th><th scope=col>&lt;int&gt;</th><th scope=col>&lt;int&gt;</th></tr>\n",
       "</thead>\n",
       "<tbody>\n",
       "\t<tr><th scope=row>1</th><td>3303</td><td> 363</td><td>613</td><td>88</td><td>3</td><td>4</td><td>4</td><td>4</td><td>3</td><td>3</td><td>3</td><td>6</td><td>6</td><td>2</td><td>27</td></tr>\n",
       "\t<tr><th scope=row>2</th><td>3307</td><td>2985</td><td>600</td><td>88</td><td>3</td><td>6</td><td>6</td><td>4</td><td>3</td><td>3</td><td>3</td><td>6</td><td>6</td><td>2</td><td>27</td></tr>\n",
       "\t<tr><th scope=row>3</th><td>3308</td><td>2985</td><td>600</td><td>88</td><td>3</td><td>6</td><td>6</td><td>4</td><td>3</td><td>3</td><td>3</td><td>5</td><td>6</td><td>2</td><td>26</td></tr>\n",
       "\t<tr><th scope=row>4</th><td>3309</td><td>2985</td><td>600</td><td>88</td><td>3</td><td>6</td><td>6</td><td>4</td><td>3</td><td>3</td><td>3</td><td>6</td><td>6</td><td>3</td><td>28</td></tr>\n",
       "\t<tr><th scope=row>5</th><td>3310</td><td>2985</td><td>600</td><td>88</td><td>3</td><td>6</td><td>6</td><td>4</td><td>3</td><td>3</td><td>3</td><td>6</td><td>5</td><td>3</td><td>27</td></tr>\n",
       "\t<tr><th scope=row>6</th><td>3311</td><td>2985</td><td>600</td><td>88</td><td>3</td><td>6</td><td>6</td><td>6</td><td>3</td><td>3</td><td>2</td><td>6</td><td>6</td><td>2</td><td>28</td></tr>\n",
       "</tbody>\n",
       "</table>\n"
      ],
      "text/latex": [
       "A data.frame: 6 × 15\n",
       "\\begin{tabular}{r|lllllllllllllll}\n",
       "  & nr.os & nr.oj & nr.ma & rok & ferma & liur & liod & c1.BS. & c2.CT. & c3.CP. & c4.CD. & c5.HL. & c6.PS. & c7.GA. & LOP\\\\\n",
       "  & <int> & <int> & <int> & <int> & <int> & <int> & <int> & <int> & <int> & <int> & <int> & <int> & <int> & <int> & <int>\\\\\n",
       "\\hline\n",
       "\t1 & 3303 &  363 & 613 & 88 & 3 & 4 & 4 & 4 & 3 & 3 & 3 & 6 & 6 & 2 & 27\\\\\n",
       "\t2 & 3307 & 2985 & 600 & 88 & 3 & 6 & 6 & 4 & 3 & 3 & 3 & 6 & 6 & 2 & 27\\\\\n",
       "\t3 & 3308 & 2985 & 600 & 88 & 3 & 6 & 6 & 4 & 3 & 3 & 3 & 5 & 6 & 2 & 26\\\\\n",
       "\t4 & 3309 & 2985 & 600 & 88 & 3 & 6 & 6 & 4 & 3 & 3 & 3 & 6 & 6 & 3 & 28\\\\\n",
       "\t5 & 3310 & 2985 & 600 & 88 & 3 & 6 & 6 & 4 & 3 & 3 & 3 & 6 & 5 & 3 & 27\\\\\n",
       "\t6 & 3311 & 2985 & 600 & 88 & 3 & 6 & 6 & 6 & 3 & 3 & 2 & 6 & 6 & 2 & 28\\\\\n",
       "\\end{tabular}\n"
      ],
      "text/markdown": [
       "\n",
       "A data.frame: 6 × 15\n",
       "\n",
       "| <!--/--> | nr.os &lt;int&gt; | nr.oj &lt;int&gt; | nr.ma &lt;int&gt; | rok &lt;int&gt; | ferma &lt;int&gt; | liur &lt;int&gt; | liod &lt;int&gt; | c1.BS. &lt;int&gt; | c2.CT. &lt;int&gt; | c3.CP. &lt;int&gt; | c4.CD. &lt;int&gt; | c5.HL. &lt;int&gt; | c6.PS. &lt;int&gt; | c7.GA. &lt;int&gt; | LOP &lt;int&gt; |\n",
       "|---|---|---|---|---|---|---|---|---|---|---|---|---|---|---|---|\n",
       "| 1 | 3303 |  363 | 613 | 88 | 3 | 4 | 4 | 4 | 3 | 3 | 3 | 6 | 6 | 2 | 27 |\n",
       "| 2 | 3307 | 2985 | 600 | 88 | 3 | 6 | 6 | 4 | 3 | 3 | 3 | 6 | 6 | 2 | 27 |\n",
       "| 3 | 3308 | 2985 | 600 | 88 | 3 | 6 | 6 | 4 | 3 | 3 | 3 | 5 | 6 | 2 | 26 |\n",
       "| 4 | 3309 | 2985 | 600 | 88 | 3 | 6 | 6 | 4 | 3 | 3 | 3 | 6 | 6 | 3 | 28 |\n",
       "| 5 | 3310 | 2985 | 600 | 88 | 3 | 6 | 6 | 4 | 3 | 3 | 3 | 6 | 5 | 3 | 27 |\n",
       "| 6 | 3311 | 2985 | 600 | 88 | 3 | 6 | 6 | 6 | 3 | 3 | 2 | 6 | 6 | 2 | 28 |\n",
       "\n"
      ],
      "text/plain": [
       "  nr.os nr.oj nr.ma rok ferma liur liod c1.BS. c2.CT. c3.CP. c4.CD. c5.HL.\n",
       "1 3303   363  613   88  3     4    4    4      3      3      3      6     \n",
       "2 3307  2985  600   88  3     6    6    4      3      3      3      6     \n",
       "3 3308  2985  600   88  3     6    6    4      3      3      3      5     \n",
       "4 3309  2985  600   88  3     6    6    4      3      3      3      6     \n",
       "5 3310  2985  600   88  3     6    6    4      3      3      3      6     \n",
       "6 3311  2985  600   88  3     6    6    6      3      3      2      6     \n",
       "  c6.PS. c7.GA. LOP\n",
       "1 6      2      27 \n",
       "2 6      2      27 \n",
       "3 6      2      26 \n",
       "4 6      3      28 \n",
       "5 5      3      27 \n",
       "6 6      2      28 "
      ]
     },
     "metadata": {},
     "output_type": "display_data"
    }
   ],
   "source": [
    "head(oceny)"
   ]
  },
  {
   "cell_type": "code",
   "execution_count": null,
   "metadata": {
    "colab": {
     "base_uri": "https://localhost:8080/",
     "height": 382
    },
    "id": "5Uv0oc5mYOkT",
    "outputId": "543fa9c7-b8f3-4f3d-f2ad-65d8c61820f1"
   },
   "outputs": [
    {
     "data": {
      "text/plain": [
       "     nr.os          nr.oj          nr.ma           rok            ferma      \n",
       " Min.   :3303   Min.   :  27   Min.   :   3   Min.   :88.00   Min.   :1.000  \n",
       " 1st Qu.:4188   1st Qu.:2117   1st Qu.:1246   1st Qu.:89.00   1st Qu.:2.000  \n",
       " Median :4992   Median :3099   Median :2742   Median :89.00   Median :3.000  \n",
       " Mean   :4976   Mean   :2929   Mean   :2708   Mean   :89.53   Mean   :2.555  \n",
       " 3rd Qu.:5789   3rd Qu.:4025   3rd Qu.:3970   3rd Qu.:90.00   3rd Qu.:3.000  \n",
       " Max.   :6664   Max.   :6368   Max.   :6369   Max.   :93.00   Max.   :3.000  \n",
       "      liur           liod           c1.BS.          c2.CT.          c3.CP.     \n",
       " Min.   :0.00   Min.   :0.000   Min.   :2.000   Min.   :1.000   Min.   :1.000  \n",
       " 1st Qu.:4.00   1st Qu.:4.000   1st Qu.:4.000   1st Qu.:2.000   1st Qu.:3.000  \n",
       " Median :5.00   Median :5.000   Median :4.000   Median :3.000   Median :3.000  \n",
       " Mean   :5.32   Mean   :4.691   Mean   :4.416   Mean   :2.567   Mean   :2.848  \n",
       " 3rd Qu.:6.00   3rd Qu.:6.000   3rd Qu.:6.000   3rd Qu.:3.000   3rd Qu.:3.000  \n",
       " Max.   :9.00   Max.   :9.000   Max.   :6.000   Max.   :6.000   Max.   :6.000  \n",
       "     c4.CD.         c5.HL.          c6.PS.          c7.GA.           LOP       \n",
       " Min.   :1.00   Min.   :3.000   Min.   :2.000   Min.   :1.000   Min.   :20.00  \n",
       " 1st Qu.:3.00   1st Qu.:5.000   1st Qu.:5.000   1st Qu.:2.000   1st Qu.:25.00  \n",
       " Median :3.00   Median :6.000   Median :6.000   Median :3.000   Median :27.00  \n",
       " Mean   :2.83   Mean   :5.555   Mean   :5.471   Mean   :2.674   Mean   :26.36  \n",
       " 3rd Qu.:3.00   3rd Qu.:6.000   3rd Qu.:6.000   3rd Qu.:3.000   3rd Qu.:27.00  \n",
       " Max.   :6.00   Max.   :6.000   Max.   :9.000   Max.   :9.000   Max.   :30.00  "
      ]
     },
     "metadata": {},
     "output_type": "display_data"
    }
   ],
   "source": [
    "summary(oceny)"
   ]
  },
  {
   "cell_type": "code",
   "execution_count": 54,
   "metadata": {
    "colab": {
     "base_uri": "https://localhost:8080/",
     "height": 34
    },
    "id": "a7cgW58iwosP",
    "outputId": "b901a0a4-1c99-4051-d8d8-c9f86fb86d5f"
   },
   "outputs": [
    {
     "data": {
      "text/html": [
       "2.64874458785252"
      ],
      "text/latex": [
       "2.64874458785252"
      ],
      "text/markdown": [
       "2.64874458785252"
      ],
      "text/plain": [
       "[1] 2.648745"
      ]
     },
     "metadata": {},
     "output_type": "display_data"
    }
   ],
   "source": [
    "var(oceny$LOP)"
   ]
  },
  {
   "cell_type": "code",
   "execution_count": 70,
   "metadata": {
    "colab": {
     "base_uri": "https://localhost:8080/",
     "height": 520
    },
    "id": "i4QtO4vBA-Qj",
    "outputId": "f0180873-5c39-4ed2-ab08-ee08a7c76f26"
   },
   "outputs": [
    {
     "name": "stderr",
     "output_type": "stream",
     "text": [
      "Warning message:\n",
      "“Some predictor variables are on very different scales: consider rescaling”\n"
     ]
    },
    {
     "data": {
      "text/plain": [
       "Linear mixed model fit by maximum likelihood  ['lmerMod']\n",
       "Formula: LOP ~ nr.oj + (1 | ferma)\n",
       "   Data: oceny\n",
       "\n",
       "     AIC      BIC   logLik deviance df.resid \n",
       " 10386.3  10410.3  -5189.2  10378.3     2952 \n",
       "\n",
       "Scaled residuals: \n",
       "    Min      1Q  Median      3Q     Max \n",
       "-4.2488 -0.6572  0.0497  0.7178  2.7299 \n",
       "\n",
       "Random effects:\n",
       " Groups   Name        Variance Std.Dev.\n",
       " ferma    (Intercept) 1.020    1.010   \n",
       " Residual             1.949    1.396   \n",
       "Number of obs: 2956, groups:  ferma, 3\n",
       "\n",
       "Fixed effects:\n",
       "              Estimate Std. Error t value\n",
       "(Intercept)  2.671e+01  5.871e-01  45.505\n",
       "nr.oj       -2.764e-05  1.649e-05  -1.676\n",
       "\n",
       "Correlation of Fixed Effects:\n",
       "      (Intr)\n",
       "nr.oj -0.084\n",
       "fit warnings:\n",
       "Some predictor variables are on very different scales: consider rescaling"
      ]
     },
     "metadata": {},
     "output_type": "display_data"
    }
   ],
   "source": [
    "lmm_LOP1 <- lmer( LOP ~ nr.oj + (1|ferma),REML = FALSE,data = oceny)\n",
    "summary(lmm.LOP1)"
   ]
  },
  {
   "cell_type": "code",
   "execution_count": 72,
   "metadata": {
    "id": "Ty9gKOuCIGK-"
   },
   "outputs": [],
   "source": [
    "ferma_lmm_LOP1 <- 1.020\n",
    "residual_lmm_LOP1 <- 1.949"
   ]
  },
  {
   "cell_type": "code",
   "execution_count": 71,
   "metadata": {
    "colab": {
     "base_uri": "https://localhost:8080/",
     "height": 129
    },
    "id": "9RWhCMvZCKUY",
    "outputId": "37ce1274-7538-4031-c600-c51600b30e67"
   },
   "outputs": [
    {
     "data": {
      "text/html": [
       "<table class=\"dataframe\">\n",
       "<caption>A anova: 1 × 4</caption>\n",
       "<thead>\n",
       "\t<tr><th></th><th scope=col>npar</th><th scope=col>Sum Sq</th><th scope=col>Mean Sq</th><th scope=col>F value</th></tr>\n",
       "\t<tr><th></th><th scope=col>&lt;int&gt;</th><th scope=col>&lt;dbl&gt;</th><th scope=col>&lt;dbl&gt;</th><th scope=col>&lt;dbl&gt;</th></tr>\n",
       "</thead>\n",
       "<tbody>\n",
       "\t<tr><th scope=row>nr.oj</th><td>1</td><td>5.471483</td><td>5.471483</td><td>2.807626</td></tr>\n",
       "</tbody>\n",
       "</table>\n"
      ],
      "text/latex": [
       "A anova: 1 × 4\n",
       "\\begin{tabular}{r|llll}\n",
       "  & npar & Sum Sq & Mean Sq & F value\\\\\n",
       "  & <int> & <dbl> & <dbl> & <dbl>\\\\\n",
       "\\hline\n",
       "\tnr.oj & 1 & 5.471483 & 5.471483 & 2.807626\\\\\n",
       "\\end{tabular}\n"
      ],
      "text/markdown": [
       "\n",
       "A anova: 1 × 4\n",
       "\n",
       "| <!--/--> | npar &lt;int&gt; | Sum Sq &lt;dbl&gt; | Mean Sq &lt;dbl&gt; | F value &lt;dbl&gt; |\n",
       "|---|---|---|---|---|\n",
       "| nr.oj | 1 | 5.471483 | 5.471483 | 2.807626 |\n",
       "\n"
      ],
      "text/plain": [
       "      npar Sum Sq   Mean Sq  F value \n",
       "nr.oj 1    5.471483 5.471483 2.807626"
      ]
     },
     "metadata": {},
     "output_type": "display_data"
    }
   ],
   "source": [
    "anova(lmm_LOP1)"
   ]
  },
  {
   "cell_type": "code",
   "execution_count": 73,
   "metadata": {
    "colab": {
     "base_uri": "https://localhost:8080/",
     "height": 34
    },
    "id": "s-U2rhCXfIhw",
    "outputId": "a6066da1-cf46-4d0d-ea38-9597b13feb45"
   },
   "outputs": [
    {
     "data": {
      "text/html": [
       "1.02"
      ],
      "text/latex": [
       "1.02"
      ],
      "text/markdown": [
       "1.02"
      ],
      "text/plain": [
       "[1] 1.02"
      ]
     },
     "metadata": {},
     "output_type": "display_data"
    }
   ],
   "source": [
    "# Obliczanie wariancji genetycznej błędu\n",
    "var_ge <- ferma_lmm_LOP1\n",
    "var_ge"
   ]
  },
  {
   "cell_type": "code",
   "execution_count": 74,
   "metadata": {
    "colab": {
     "base_uri": "https://localhost:8080/",
     "height": 34
    },
    "id": "brX-jLzkfZMk",
    "outputId": "be2670d3-8f80-40f0-a04c-dc515a543e54"
   },
   "outputs": [
    {
     "data": {
      "text/html": [
       "2.969"
      ],
      "text/latex": [
       "2.969"
      ],
      "text/markdown": [
       "2.969"
      ],
      "text/plain": [
       "[1] 2.969"
      ]
     },
     "metadata": {},
     "output_type": "display_data"
    }
   ],
   "source": [
    "# Obliczanie wariancji fenotypowej błędu\n",
    "var_fe <- var_ge + residual_lmm_LOP1\n",
    "var_fe"
   ]
  },
  {
   "cell_type": "code",
   "execution_count": 75,
   "metadata": {
    "colab": {
     "base_uri": "https://localhost:8080/",
     "height": 34
    },
    "id": "KDiw91lOdnWT",
    "outputId": "c3c51573-1fc9-4e93-9b9a-0b324ec54e09"
   },
   "outputs": [
    {
     "data": {
      "text/html": [
       "0.343550016840687"
      ],
      "text/latex": [
       "0.343550016840687"
      ],
      "text/markdown": [
       "0.343550016840687"
      ],
      "text/plain": [
       "[1] 0.34355"
      ]
     },
     "metadata": {},
     "output_type": "display_data"
    }
   ],
   "source": [
    "# Obliczanie odziedziczalności \n",
    "h2 <- var_ge/var_fe\n",
    "h2"
   ]
  },
  {
   "cell_type": "code",
   "execution_count": 52,
   "metadata": {
    "colab": {
     "base_uri": "https://localhost:8080/",
     "height": 573
    },
    "id": "KPnxwpEfBw5M",
    "outputId": "5c70ef02-72cd-46b6-f8a9-eae23750b985"
   },
   "outputs": [
    {
     "name": "stderr",
     "output_type": "stream",
     "text": [
      "Warning message:\n",
      "“Some predictor variables are on very different scales: consider rescaling”\n"
     ]
    },
    {
     "data": {
      "text/plain": [
       "Linear mixed model fit by maximum likelihood  ['lmerMod']\n",
       "Formula: LOP ~ nr.oj + nr.os + (1 | ferma) + (1 | rok)\n",
       "   Data: oceny\n",
       "\n",
       "     AIC      BIC   logLik deviance df.resid \n",
       " 10285.8  10321.7  -5136.9  10273.8     2950 \n",
       "\n",
       "Scaled residuals: \n",
       "    Min      1Q  Median      3Q     Max \n",
       "-4.3593 -0.6547  0.0473  0.6860  3.1250 \n",
       "\n",
       "Random effects:\n",
       " Groups   Name        Variance Std.Dev.\n",
       " rok      (Intercept) 0.4089   0.6394  \n",
       " ferma    (Intercept) 1.1514   1.0730  \n",
       " Residual             1.8671   1.3664  \n",
       "Number of obs: 2956, groups:  rok, 6; ferma, 3\n",
       "\n",
       "Fixed effects:\n",
       "              Estimate Std. Error t value\n",
       "(Intercept)  2.367e+01  1.025e+00  23.080\n",
       "nr.oj       -1.082e-05  1.989e-05  -0.544\n",
       "nr.os        5.412e-04  1.405e-04   3.852\n",
       "\n",
       "Correlation of Fixed Effects:\n",
       "      (Intr) nr.oj \n",
       "nr.oj  0.079       \n",
       "nr.os -0.750 -0.194\n",
       "fit warnings:\n",
       "Some predictor variables are on very different scales: consider rescaling"
      ]
     },
     "metadata": {},
     "output_type": "display_data"
    }
   ],
   "source": [
    "lmm.LOP2 <- lmer( LOP ~ nr.oj + nr.os + (1|ferma) + (1|rok),REML = FALSE,data = oceny)\n",
    "summary(lmm.LOP2)"
   ]
  }
 ],
 "metadata": {
  "colab": {
   "provenance": []
  },
  "kernelspec": {
   "display_name": "R",
   "language": "R",
   "name": "ir"
  },
  "language_info": {
   "codemirror_mode": "r",
   "file_extension": ".r",
   "mimetype": "text/x-r-source",
   "name": "R",
   "pygments_lexer": "r",
   "version": "3.5.1"
  }
 },
 "nbformat": 4,
 "nbformat_minor": 1
}
