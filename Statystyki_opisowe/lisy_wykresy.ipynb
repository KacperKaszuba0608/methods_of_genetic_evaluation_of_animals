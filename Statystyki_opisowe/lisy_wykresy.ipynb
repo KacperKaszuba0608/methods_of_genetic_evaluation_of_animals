{
 "cells": [
  {
   "cell_type": "markdown",
   "metadata": {
    "id": "PjamhaIwYdao"
   },
   "source": [
    "# Projekt - Metody Oceny Genetycznej Zwierząt"
   ]
  },
  {
   "cell_type": "markdown",
   "metadata": {
    "id": "KuKfhq6UDgyr"
   },
   "source": [
    "## Wczytanie"
   ]
  },
  {
   "cell_type": "code",
   "execution_count": 31,
   "metadata": {
    "colab": {
     "base_uri": "https://localhost:8080/"
    },
    "id": "lUEe0UnrZ1Ro",
    "outputId": "95b2d415-8f44-4619-ac2d-95fd3ff0b53d"
   },
   "outputs": [
    {
     "name": "stdout",
     "output_type": "stream",
     "text": [
      "Drive already mounted at /content/gdrive; to attempt to forcibly remount, call drive.mount(\"/content/gdrive\", force_remount=True).\n"
     ]
    }
   ],
   "source": [
    "import pandas as pd\n",
    "from google.colab import drive \n",
    "drive.mount('/content/gdrive')"
   ]
  },
  {
   "cell_type": "code",
   "execution_count": 32,
   "metadata": {
    "id": "0Zpsqga2WoaA"
   },
   "outputs": [],
   "source": [
    "dane = pd.read_excel('gdrive/My Drive/Colab Notebooks/dane 2.xlsx', index_col=0)"
   ]
  },
  {
   "cell_type": "code",
   "execution_count": 33,
   "metadata": {
    "colab": {
     "base_uri": "https://localhost:8080/",
     "height": 726
    },
    "id": "Q2ccIRDcZy6K",
    "outputId": "19df5c5d-b162-4a44-af0a-48dfd88bc2fd"
   },
   "outputs": [
    {
     "data": {
      "text/html": [
       "\n",
       "  <div id=\"df-c2091f89-918d-4851-abcd-392b111cf0b4\">\n",
       "    <div class=\"colab-df-container\">\n",
       "      <div>\n",
       "<style scoped>\n",
       "    .dataframe tbody tr th:only-of-type {\n",
       "        vertical-align: middle;\n",
       "    }\n",
       "\n",
       "    .dataframe tbody tr th {\n",
       "        vertical-align: top;\n",
       "    }\n",
       "\n",
       "    .dataframe thead th {\n",
       "        text-align: right;\n",
       "    }\n",
       "</style>\n",
       "<table border=\"1\" class=\"dataframe\">\n",
       "  <thead>\n",
       "    <tr style=\"text-align: right;\">\n",
       "      <th></th>\n",
       "      <th>nr oj</th>\n",
       "      <th>nr ma</th>\n",
       "      <th>rok</th>\n",
       "      <th>ferma</th>\n",
       "      <th>liur</th>\n",
       "      <th>liod</th>\n",
       "      <th>c1(BS)</th>\n",
       "      <th>c2(CT)</th>\n",
       "      <th>c3(CP)</th>\n",
       "      <th>c4(CD)</th>\n",
       "      <th>c5(HL)</th>\n",
       "      <th>c6(PS)</th>\n",
       "      <th>c7(GA)</th>\n",
       "      <th>LOP</th>\n",
       "      <th>Unnamed: 15</th>\n",
       "      <th>Unnamed: 16</th>\n",
       "      <th>Unnamed: 17</th>\n",
       "      <th>Unnamed: 18</th>\n",
       "    </tr>\n",
       "    <tr>\n",
       "      <th>nr os</th>\n",
       "      <th></th>\n",
       "      <th></th>\n",
       "      <th></th>\n",
       "      <th></th>\n",
       "      <th></th>\n",
       "      <th></th>\n",
       "      <th></th>\n",
       "      <th></th>\n",
       "      <th></th>\n",
       "      <th></th>\n",
       "      <th></th>\n",
       "      <th></th>\n",
       "      <th></th>\n",
       "      <th></th>\n",
       "      <th></th>\n",
       "      <th></th>\n",
       "      <th></th>\n",
       "      <th></th>\n",
       "    </tr>\n",
       "  </thead>\n",
       "  <tbody>\n",
       "    <tr>\n",
       "      <th>3303</th>\n",
       "      <td>363</td>\n",
       "      <td>613</td>\n",
       "      <td>88</td>\n",
       "      <td>3</td>\n",
       "      <td>4</td>\n",
       "      <td>4</td>\n",
       "      <td>4</td>\n",
       "      <td>3</td>\n",
       "      <td>3</td>\n",
       "      <td>3</td>\n",
       "      <td>6</td>\n",
       "      <td>6</td>\n",
       "      <td>2</td>\n",
       "      <td>27</td>\n",
       "      <td>NaN</td>\n",
       "      <td>NaN</td>\n",
       "      <td>NaN</td>\n",
       "      <td>NaN</td>\n",
       "    </tr>\n",
       "    <tr>\n",
       "      <th>3307</th>\n",
       "      <td>2985</td>\n",
       "      <td>600</td>\n",
       "      <td>88</td>\n",
       "      <td>3</td>\n",
       "      <td>6</td>\n",
       "      <td>6</td>\n",
       "      <td>4</td>\n",
       "      <td>3</td>\n",
       "      <td>3</td>\n",
       "      <td>3</td>\n",
       "      <td>6</td>\n",
       "      <td>6</td>\n",
       "      <td>2</td>\n",
       "      <td>27</td>\n",
       "      <td>NaN</td>\n",
       "      <td>NaN</td>\n",
       "      <td>NaN</td>\n",
       "      <td>NaN</td>\n",
       "    </tr>\n",
       "    <tr>\n",
       "      <th>3308</th>\n",
       "      <td>2985</td>\n",
       "      <td>600</td>\n",
       "      <td>88</td>\n",
       "      <td>3</td>\n",
       "      <td>6</td>\n",
       "      <td>6</td>\n",
       "      <td>4</td>\n",
       "      <td>3</td>\n",
       "      <td>3</td>\n",
       "      <td>3</td>\n",
       "      <td>5</td>\n",
       "      <td>6</td>\n",
       "      <td>2</td>\n",
       "      <td>26</td>\n",
       "      <td>NaN</td>\n",
       "      <td>NaN</td>\n",
       "      <td>NaN</td>\n",
       "      <td>Opis Danych (od lolumny A do kolumny O)</td>\n",
       "    </tr>\n",
       "    <tr>\n",
       "      <th>3309</th>\n",
       "      <td>2985</td>\n",
       "      <td>600</td>\n",
       "      <td>88</td>\n",
       "      <td>3</td>\n",
       "      <td>6</td>\n",
       "      <td>6</td>\n",
       "      <td>4</td>\n",
       "      <td>3</td>\n",
       "      <td>3</td>\n",
       "      <td>3</td>\n",
       "      <td>6</td>\n",
       "      <td>6</td>\n",
       "      <td>3</td>\n",
       "      <td>28</td>\n",
       "      <td>NaN</td>\n",
       "      <td>NaN</td>\n",
       "      <td>NaN</td>\n",
       "      <td>Lisy pospolite odmiany barwnej srebrzystej</td>\n",
       "    </tr>\n",
       "    <tr>\n",
       "      <th>3310</th>\n",
       "      <td>2985</td>\n",
       "      <td>600</td>\n",
       "      <td>88</td>\n",
       "      <td>3</td>\n",
       "      <td>6</td>\n",
       "      <td>6</td>\n",
       "      <td>4</td>\n",
       "      <td>3</td>\n",
       "      <td>3</td>\n",
       "      <td>3</td>\n",
       "      <td>6</td>\n",
       "      <td>5</td>\n",
       "      <td>3</td>\n",
       "      <td>27</td>\n",
       "      <td>NaN</td>\n",
       "      <td>NaN</td>\n",
       "      <td>A</td>\n",
       "      <td>nr osobnika</td>\n",
       "    </tr>\n",
       "    <tr>\n",
       "      <th>3311</th>\n",
       "      <td>2985</td>\n",
       "      <td>600</td>\n",
       "      <td>88</td>\n",
       "      <td>3</td>\n",
       "      <td>6</td>\n",
       "      <td>6</td>\n",
       "      <td>6</td>\n",
       "      <td>3</td>\n",
       "      <td>3</td>\n",
       "      <td>2</td>\n",
       "      <td>6</td>\n",
       "      <td>6</td>\n",
       "      <td>2</td>\n",
       "      <td>28</td>\n",
       "      <td>NaN</td>\n",
       "      <td>NaN</td>\n",
       "      <td>B</td>\n",
       "      <td>nr ojca</td>\n",
       "    </tr>\n",
       "    <tr>\n",
       "      <th>3312</th>\n",
       "      <td>2985</td>\n",
       "      <td>600</td>\n",
       "      <td>88</td>\n",
       "      <td>3</td>\n",
       "      <td>6</td>\n",
       "      <td>6</td>\n",
       "      <td>4</td>\n",
       "      <td>3</td>\n",
       "      <td>3</td>\n",
       "      <td>3</td>\n",
       "      <td>5</td>\n",
       "      <td>6</td>\n",
       "      <td>2</td>\n",
       "      <td>26</td>\n",
       "      <td>NaN</td>\n",
       "      <td>NaN</td>\n",
       "      <td>C</td>\n",
       "      <td>nr matki</td>\n",
       "    </tr>\n",
       "    <tr>\n",
       "      <th>3313</th>\n",
       "      <td>2985</td>\n",
       "      <td>2537</td>\n",
       "      <td>88</td>\n",
       "      <td>3</td>\n",
       "      <td>6</td>\n",
       "      <td>6</td>\n",
       "      <td>6</td>\n",
       "      <td>3</td>\n",
       "      <td>3</td>\n",
       "      <td>1</td>\n",
       "      <td>6</td>\n",
       "      <td>6</td>\n",
       "      <td>3</td>\n",
       "      <td>28</td>\n",
       "      <td>NaN</td>\n",
       "      <td>NaN</td>\n",
       "      <td>D</td>\n",
       "      <td>rok urodzenia osobnka</td>\n",
       "    </tr>\n",
       "    <tr>\n",
       "      <th>3314</th>\n",
       "      <td>2855</td>\n",
       "      <td>223</td>\n",
       "      <td>88</td>\n",
       "      <td>3</td>\n",
       "      <td>6</td>\n",
       "      <td>6</td>\n",
       "      <td>4</td>\n",
       "      <td>3</td>\n",
       "      <td>3</td>\n",
       "      <td>3</td>\n",
       "      <td>6</td>\n",
       "      <td>6</td>\n",
       "      <td>3</td>\n",
       "      <td>28</td>\n",
       "      <td>NaN</td>\n",
       "      <td>NaN</td>\n",
       "      <td>E</td>\n",
       "      <td>ferma/stado</td>\n",
       "    </tr>\n",
       "    <tr>\n",
       "      <th>3315</th>\n",
       "      <td>2855</td>\n",
       "      <td>223</td>\n",
       "      <td>88</td>\n",
       "      <td>3</td>\n",
       "      <td>6</td>\n",
       "      <td>6</td>\n",
       "      <td>4</td>\n",
       "      <td>3</td>\n",
       "      <td>3</td>\n",
       "      <td>3</td>\n",
       "      <td>6</td>\n",
       "      <td>6</td>\n",
       "      <td>2</td>\n",
       "      <td>27</td>\n",
       "      <td>NaN</td>\n",
       "      <td>NaN</td>\n",
       "      <td>F</td>\n",
       "      <td>liczba szczeniąt urodzonych (liczebność miotu,...</td>\n",
       "    </tr>\n",
       "  </tbody>\n",
       "</table>\n",
       "</div>\n",
       "      <button class=\"colab-df-convert\" onclick=\"convertToInteractive('df-c2091f89-918d-4851-abcd-392b111cf0b4')\"\n",
       "              title=\"Convert this dataframe to an interactive table.\"\n",
       "              style=\"display:none;\">\n",
       "        \n",
       "  <svg xmlns=\"http://www.w3.org/2000/svg\" height=\"24px\"viewBox=\"0 0 24 24\"\n",
       "       width=\"24px\">\n",
       "    <path d=\"M0 0h24v24H0V0z\" fill=\"none\"/>\n",
       "    <path d=\"M18.56 5.44l.94 2.06.94-2.06 2.06-.94-2.06-.94-.94-2.06-.94 2.06-2.06.94zm-11 1L8.5 8.5l.94-2.06 2.06-.94-2.06-.94L8.5 2.5l-.94 2.06-2.06.94zm10 10l.94 2.06.94-2.06 2.06-.94-2.06-.94-.94-2.06-.94 2.06-2.06.94z\"/><path d=\"M17.41 7.96l-1.37-1.37c-.4-.4-.92-.59-1.43-.59-.52 0-1.04.2-1.43.59L10.3 9.45l-7.72 7.72c-.78.78-.78 2.05 0 2.83L4 21.41c.39.39.9.59 1.41.59.51 0 1.02-.2 1.41-.59l7.78-7.78 2.81-2.81c.8-.78.8-2.07 0-2.86zM5.41 20L4 18.59l7.72-7.72 1.47 1.35L5.41 20z\"/>\n",
       "  </svg>\n",
       "      </button>\n",
       "      \n",
       "  <style>\n",
       "    .colab-df-container {\n",
       "      display:flex;\n",
       "      flex-wrap:wrap;\n",
       "      gap: 12px;\n",
       "    }\n",
       "\n",
       "    .colab-df-convert {\n",
       "      background-color: #E8F0FE;\n",
       "      border: none;\n",
       "      border-radius: 50%;\n",
       "      cursor: pointer;\n",
       "      display: none;\n",
       "      fill: #1967D2;\n",
       "      height: 32px;\n",
       "      padding: 0 0 0 0;\n",
       "      width: 32px;\n",
       "    }\n",
       "\n",
       "    .colab-df-convert:hover {\n",
       "      background-color: #E2EBFA;\n",
       "      box-shadow: 0px 1px 2px rgba(60, 64, 67, 0.3), 0px 1px 3px 1px rgba(60, 64, 67, 0.15);\n",
       "      fill: #174EA6;\n",
       "    }\n",
       "\n",
       "    [theme=dark] .colab-df-convert {\n",
       "      background-color: #3B4455;\n",
       "      fill: #D2E3FC;\n",
       "    }\n",
       "\n",
       "    [theme=dark] .colab-df-convert:hover {\n",
       "      background-color: #434B5C;\n",
       "      box-shadow: 0px 1px 3px 1px rgba(0, 0, 0, 0.15);\n",
       "      filter: drop-shadow(0px 1px 2px rgba(0, 0, 0, 0.3));\n",
       "      fill: #FFFFFF;\n",
       "    }\n",
       "  </style>\n",
       "\n",
       "      <script>\n",
       "        const buttonEl =\n",
       "          document.querySelector('#df-c2091f89-918d-4851-abcd-392b111cf0b4 button.colab-df-convert');\n",
       "        buttonEl.style.display =\n",
       "          google.colab.kernel.accessAllowed ? 'block' : 'none';\n",
       "\n",
       "        async function convertToInteractive(key) {\n",
       "          const element = document.querySelector('#df-c2091f89-918d-4851-abcd-392b111cf0b4');\n",
       "          const dataTable =\n",
       "            await google.colab.kernel.invokeFunction('convertToInteractive',\n",
       "                                                     [key], {});\n",
       "          if (!dataTable) return;\n",
       "\n",
       "          const docLinkHtml = 'Like what you see? Visit the ' +\n",
       "            '<a target=\"_blank\" href=https://colab.research.google.com/notebooks/data_table.ipynb>data table notebook</a>'\n",
       "            + ' to learn more about interactive tables.';\n",
       "          element.innerHTML = '';\n",
       "          dataTable['output_type'] = 'display_data';\n",
       "          await google.colab.output.renderOutput(dataTable, element);\n",
       "          const docLink = document.createElement('div');\n",
       "          docLink.innerHTML = docLinkHtml;\n",
       "          element.appendChild(docLink);\n",
       "        }\n",
       "      </script>\n",
       "    </div>\n",
       "  </div>\n",
       "  "
      ],
      "text/plain": [
       "       nr oj  nr ma  rok  ferma  liur  liod  c1(BS)  c2(CT)  c3(CP)  c4(CD)  \\\n",
       "nr os                                                                         \n",
       "3303     363    613   88      3     4     4       4       3       3       3   \n",
       "3307    2985    600   88      3     6     6       4       3       3       3   \n",
       "3308    2985    600   88      3     6     6       4       3       3       3   \n",
       "3309    2985    600   88      3     6     6       4       3       3       3   \n",
       "3310    2985    600   88      3     6     6       4       3       3       3   \n",
       "3311    2985    600   88      3     6     6       6       3       3       2   \n",
       "3312    2985    600   88      3     6     6       4       3       3       3   \n",
       "3313    2985   2537   88      3     6     6       6       3       3       1   \n",
       "3314    2855    223   88      3     6     6       4       3       3       3   \n",
       "3315    2855    223   88      3     6     6       4       3       3       3   \n",
       "\n",
       "       c5(HL)  c6(PS)  c7(GA)  LOP  Unnamed: 15  Unnamed: 16 Unnamed: 17  \\\n",
       "nr os                                                                      \n",
       "3303        6       6       2   27          NaN          NaN         NaN   \n",
       "3307        6       6       2   27          NaN          NaN         NaN   \n",
       "3308        5       6       2   26          NaN          NaN         NaN   \n",
       "3309        6       6       3   28          NaN          NaN         NaN   \n",
       "3310        6       5       3   27          NaN          NaN           A   \n",
       "3311        6       6       2   28          NaN          NaN           B   \n",
       "3312        5       6       2   26          NaN          NaN           C   \n",
       "3313        6       6       3   28          NaN          NaN           D   \n",
       "3314        6       6       3   28          NaN          NaN           E   \n",
       "3315        6       6       2   27          NaN          NaN           F   \n",
       "\n",
       "                                             Unnamed: 18  \n",
       "nr os                                                     \n",
       "3303                                                 NaN  \n",
       "3307                                                 NaN  \n",
       "3308             Opis Danych (od lolumny A do kolumny O)  \n",
       "3309          Lisy pospolite odmiany barwnej srebrzystej  \n",
       "3310                                         nr osobnika  \n",
       "3311                                             nr ojca  \n",
       "3312                                            nr matki  \n",
       "3313                               rok urodzenia osobnka  \n",
       "3314                                         ferma/stado  \n",
       "3315   liczba szczeniąt urodzonych (liczebność miotu,...  "
      ]
     },
     "execution_count": 33,
     "metadata": {},
     "output_type": "execute_result"
    }
   ],
   "source": [
    "dane.head(10)"
   ]
  },
  {
   "cell_type": "code",
   "execution_count": 34,
   "metadata": {
    "id": "BWSlVyRCbq2F"
   },
   "outputs": [],
   "source": [
    "import numpy as np"
   ]
  },
  {
   "cell_type": "code",
   "execution_count": 35,
   "metadata": {
    "id": "lyCbtqO8bWa0"
   },
   "outputs": [],
   "source": [
    "import matplotlib.pyplot as plt\n",
    "import seaborn as sns"
   ]
  },
  {
   "cell_type": "markdown",
   "metadata": {
    "id": "fQPxbiuTDop0"
   },
   "source": [
    "## Statystyki Podstawowe"
   ]
  },
  {
   "cell_type": "markdown",
   "metadata": {
    "id": "jbxUbtz7DE9Y"
   },
   "source": [
    "###Ile osobników w zbiorze danych pochodzi z danej fermy?"
   ]
  },
  {
   "cell_type": "code",
   "execution_count": 36,
   "metadata": {
    "colab": {
     "base_uri": "https://localhost:8080/"
    },
    "id": "dxHymVbdkJ2w",
    "outputId": "1d103af2-8d7c-44d0-c77e-34a43b3fc587"
   },
   "outputs": [
    {
     "data": {
      "text/plain": [
       "118"
      ]
     },
     "execution_count": 36,
     "metadata": {},
     "output_type": "execute_result"
    }
   ],
   "source": [
    "\n",
    "ferma1 = dane[dane['ferma'] == 1]\n",
    "ferma2 = dane[dane['ferma'] == 2]\n",
    "ferma3 = dane[dane['ferma'] == 3]\n",
    "len(ferma1)\n"
   ]
  },
  {
   "cell_type": "code",
   "execution_count": 37,
   "metadata": {
    "colab": {
     "base_uri": "https://localhost:8080/"
    },
    "id": "aRxNYVHElqx2",
    "outputId": "1cf4be33-c827-4744-bf89-01359d762ebf"
   },
   "outputs": [
    {
     "data": {
      "text/plain": [
       "1080"
      ]
     },
     "execution_count": 37,
     "metadata": {},
     "output_type": "execute_result"
    }
   ],
   "source": [
    "len(ferma2)"
   ]
  },
  {
   "cell_type": "code",
   "execution_count": 38,
   "metadata": {
    "colab": {
     "base_uri": "https://localhost:8080/"
    },
    "id": "iM5scHGBtsTk",
    "outputId": "839cc091-e9b6-47fc-ad85-5efceaf42228"
   },
   "outputs": [
    {
     "data": {
      "text/plain": [
       "1758"
      ]
     },
     "execution_count": 38,
     "metadata": {},
     "output_type": "execute_result"
    }
   ],
   "source": [
    "len(ferma3)"
   ]
  },
  {
   "cell_type": "markdown",
   "metadata": {
    "id": "ih_71TR55anC"
   },
   "source": [
    "Statystyki podstawowe dla każdej fermy"
   ]
  },
  {
   "cell_type": "code",
   "execution_count": 39,
   "metadata": {
    "colab": {
     "base_uri": "https://localhost:8080/",
     "height": 378
    },
    "id": "oeLpv0bp5f_s",
    "outputId": "86ad3988-3170-413d-a70b-12fb0cec3b29"
   },
   "outputs": [
    {
     "data": {
      "text/html": [
       "\n",
       "  <div id=\"df-5cc5b29a-eca0-4adf-b61f-def6a5b9d653\">\n",
       "    <div class=\"colab-df-container\">\n",
       "      <div>\n",
       "<style scoped>\n",
       "    .dataframe tbody tr th:only-of-type {\n",
       "        vertical-align: middle;\n",
       "    }\n",
       "\n",
       "    .dataframe tbody tr th {\n",
       "        vertical-align: top;\n",
       "    }\n",
       "\n",
       "    .dataframe thead th {\n",
       "        text-align: right;\n",
       "    }\n",
       "</style>\n",
       "<table border=\"1\" class=\"dataframe\">\n",
       "  <thead>\n",
       "    <tr style=\"text-align: right;\">\n",
       "      <th></th>\n",
       "      <th>nr oj</th>\n",
       "      <th>nr ma</th>\n",
       "      <th>rok</th>\n",
       "      <th>ferma</th>\n",
       "      <th>liur</th>\n",
       "      <th>liod</th>\n",
       "      <th>c1(BS)</th>\n",
       "      <th>c2(CT)</th>\n",
       "      <th>c3(CP)</th>\n",
       "      <th>c4(CD)</th>\n",
       "      <th>c5(HL)</th>\n",
       "      <th>c6(PS)</th>\n",
       "      <th>c7(GA)</th>\n",
       "      <th>LOP</th>\n",
       "      <th>Unnamed: 15</th>\n",
       "      <th>Unnamed: 16</th>\n",
       "    </tr>\n",
       "  </thead>\n",
       "  <tbody>\n",
       "    <tr>\n",
       "      <th>count</th>\n",
       "      <td>118.000000</td>\n",
       "      <td>118.000000</td>\n",
       "      <td>118.000000</td>\n",
       "      <td>118.0</td>\n",
       "      <td>118.000000</td>\n",
       "      <td>118.000000</td>\n",
       "      <td>118.000000</td>\n",
       "      <td>118.000000</td>\n",
       "      <td>118.000000</td>\n",
       "      <td>118.000000</td>\n",
       "      <td>118.000000</td>\n",
       "      <td>118.000000</td>\n",
       "      <td>118.000000</td>\n",
       "      <td>118.000000</td>\n",
       "      <td>0.0</td>\n",
       "      <td>0.0</td>\n",
       "    </tr>\n",
       "    <tr>\n",
       "      <th>mean</th>\n",
       "      <td>3058.135593</td>\n",
       "      <td>3809.313559</td>\n",
       "      <td>89.754237</td>\n",
       "      <td>1.0</td>\n",
       "      <td>4.084746</td>\n",
       "      <td>3.601695</td>\n",
       "      <td>5.644068</td>\n",
       "      <td>2.915254</td>\n",
       "      <td>2.406780</td>\n",
       "      <td>2.957627</td>\n",
       "      <td>5.415254</td>\n",
       "      <td>5.711864</td>\n",
       "      <td>2.652542</td>\n",
       "      <td>27.703390</td>\n",
       "      <td>NaN</td>\n",
       "      <td>NaN</td>\n",
       "    </tr>\n",
       "    <tr>\n",
       "      <th>std</th>\n",
       "      <td>1772.848111</td>\n",
       "      <td>1505.765352</td>\n",
       "      <td>1.260419</td>\n",
       "      <td>0.0</td>\n",
       "      <td>1.998188</td>\n",
       "      <td>1.710400</td>\n",
       "      <td>0.768231</td>\n",
       "      <td>0.382888</td>\n",
       "      <td>0.493328</td>\n",
       "      <td>0.202297</td>\n",
       "      <td>0.559705</td>\n",
       "      <td>0.454826</td>\n",
       "      <td>0.545018</td>\n",
       "      <td>1.104066</td>\n",
       "      <td>NaN</td>\n",
       "      <td>NaN</td>\n",
       "    </tr>\n",
       "    <tr>\n",
       "      <th>min</th>\n",
       "      <td>690.000000</td>\n",
       "      <td>1287.000000</td>\n",
       "      <td>88.000000</td>\n",
       "      <td>1.0</td>\n",
       "      <td>0.000000</td>\n",
       "      <td>0.000000</td>\n",
       "      <td>4.000000</td>\n",
       "      <td>1.000000</td>\n",
       "      <td>2.000000</td>\n",
       "      <td>2.000000</td>\n",
       "      <td>4.000000</td>\n",
       "      <td>5.000000</td>\n",
       "      <td>1.000000</td>\n",
       "      <td>25.000000</td>\n",
       "      <td>NaN</td>\n",
       "      <td>NaN</td>\n",
       "    </tr>\n",
       "    <tr>\n",
       "      <th>25%</th>\n",
       "      <td>1285.000000</td>\n",
       "      <td>2993.000000</td>\n",
       "      <td>89.000000</td>\n",
       "      <td>1.0</td>\n",
       "      <td>2.000000</td>\n",
       "      <td>2.000000</td>\n",
       "      <td>6.000000</td>\n",
       "      <td>3.000000</td>\n",
       "      <td>2.000000</td>\n",
       "      <td>3.000000</td>\n",
       "      <td>5.000000</td>\n",
       "      <td>5.000000</td>\n",
       "      <td>2.000000</td>\n",
       "      <td>27.000000</td>\n",
       "      <td>NaN</td>\n",
       "      <td>NaN</td>\n",
       "    </tr>\n",
       "    <tr>\n",
       "      <th>50%</th>\n",
       "      <td>2212.000000</td>\n",
       "      <td>3794.500000</td>\n",
       "      <td>89.000000</td>\n",
       "      <td>1.0</td>\n",
       "      <td>4.000000</td>\n",
       "      <td>3.000000</td>\n",
       "      <td>6.000000</td>\n",
       "      <td>3.000000</td>\n",
       "      <td>2.000000</td>\n",
       "      <td>3.000000</td>\n",
       "      <td>5.000000</td>\n",
       "      <td>6.000000</td>\n",
       "      <td>3.000000</td>\n",
       "      <td>28.000000</td>\n",
       "      <td>NaN</td>\n",
       "      <td>NaN</td>\n",
       "    </tr>\n",
       "    <tr>\n",
       "      <th>75%</th>\n",
       "      <td>5539.250000</td>\n",
       "      <td>5351.500000</td>\n",
       "      <td>91.000000</td>\n",
       "      <td>1.0</td>\n",
       "      <td>6.000000</td>\n",
       "      <td>5.000000</td>\n",
       "      <td>6.000000</td>\n",
       "      <td>3.000000</td>\n",
       "      <td>3.000000</td>\n",
       "      <td>3.000000</td>\n",
       "      <td>6.000000</td>\n",
       "      <td>6.000000</td>\n",
       "      <td>3.000000</td>\n",
       "      <td>28.000000</td>\n",
       "      <td>NaN</td>\n",
       "      <td>NaN</td>\n",
       "    </tr>\n",
       "    <tr>\n",
       "      <th>max</th>\n",
       "      <td>6123.000000</td>\n",
       "      <td>6137.000000</td>\n",
       "      <td>92.000000</td>\n",
       "      <td>1.0</td>\n",
       "      <td>8.000000</td>\n",
       "      <td>7.000000</td>\n",
       "      <td>6.000000</td>\n",
       "      <td>3.000000</td>\n",
       "      <td>3.000000</td>\n",
       "      <td>3.000000</td>\n",
       "      <td>6.000000</td>\n",
       "      <td>6.000000</td>\n",
       "      <td>3.000000</td>\n",
       "      <td>30.000000</td>\n",
       "      <td>NaN</td>\n",
       "      <td>NaN</td>\n",
       "    </tr>\n",
       "  </tbody>\n",
       "</table>\n",
       "</div>\n",
       "      <button class=\"colab-df-convert\" onclick=\"convertToInteractive('df-5cc5b29a-eca0-4adf-b61f-def6a5b9d653')\"\n",
       "              title=\"Convert this dataframe to an interactive table.\"\n",
       "              style=\"display:none;\">\n",
       "        \n",
       "  <svg xmlns=\"http://www.w3.org/2000/svg\" height=\"24px\"viewBox=\"0 0 24 24\"\n",
       "       width=\"24px\">\n",
       "    <path d=\"M0 0h24v24H0V0z\" fill=\"none\"/>\n",
       "    <path d=\"M18.56 5.44l.94 2.06.94-2.06 2.06-.94-2.06-.94-.94-2.06-.94 2.06-2.06.94zm-11 1L8.5 8.5l.94-2.06 2.06-.94-2.06-.94L8.5 2.5l-.94 2.06-2.06.94zm10 10l.94 2.06.94-2.06 2.06-.94-2.06-.94-.94-2.06-.94 2.06-2.06.94z\"/><path d=\"M17.41 7.96l-1.37-1.37c-.4-.4-.92-.59-1.43-.59-.52 0-1.04.2-1.43.59L10.3 9.45l-7.72 7.72c-.78.78-.78 2.05 0 2.83L4 21.41c.39.39.9.59 1.41.59.51 0 1.02-.2 1.41-.59l7.78-7.78 2.81-2.81c.8-.78.8-2.07 0-2.86zM5.41 20L4 18.59l7.72-7.72 1.47 1.35L5.41 20z\"/>\n",
       "  </svg>\n",
       "      </button>\n",
       "      \n",
       "  <style>\n",
       "    .colab-df-container {\n",
       "      display:flex;\n",
       "      flex-wrap:wrap;\n",
       "      gap: 12px;\n",
       "    }\n",
       "\n",
       "    .colab-df-convert {\n",
       "      background-color: #E8F0FE;\n",
       "      border: none;\n",
       "      border-radius: 50%;\n",
       "      cursor: pointer;\n",
       "      display: none;\n",
       "      fill: #1967D2;\n",
       "      height: 32px;\n",
       "      padding: 0 0 0 0;\n",
       "      width: 32px;\n",
       "    }\n",
       "\n",
       "    .colab-df-convert:hover {\n",
       "      background-color: #E2EBFA;\n",
       "      box-shadow: 0px 1px 2px rgba(60, 64, 67, 0.3), 0px 1px 3px 1px rgba(60, 64, 67, 0.15);\n",
       "      fill: #174EA6;\n",
       "    }\n",
       "\n",
       "    [theme=dark] .colab-df-convert {\n",
       "      background-color: #3B4455;\n",
       "      fill: #D2E3FC;\n",
       "    }\n",
       "\n",
       "    [theme=dark] .colab-df-convert:hover {\n",
       "      background-color: #434B5C;\n",
       "      box-shadow: 0px 1px 3px 1px rgba(0, 0, 0, 0.15);\n",
       "      filter: drop-shadow(0px 1px 2px rgba(0, 0, 0, 0.3));\n",
       "      fill: #FFFFFF;\n",
       "    }\n",
       "  </style>\n",
       "\n",
       "      <script>\n",
       "        const buttonEl =\n",
       "          document.querySelector('#df-5cc5b29a-eca0-4adf-b61f-def6a5b9d653 button.colab-df-convert');\n",
       "        buttonEl.style.display =\n",
       "          google.colab.kernel.accessAllowed ? 'block' : 'none';\n",
       "\n",
       "        async function convertToInteractive(key) {\n",
       "          const element = document.querySelector('#df-5cc5b29a-eca0-4adf-b61f-def6a5b9d653');\n",
       "          const dataTable =\n",
       "            await google.colab.kernel.invokeFunction('convertToInteractive',\n",
       "                                                     [key], {});\n",
       "          if (!dataTable) return;\n",
       "\n",
       "          const docLinkHtml = 'Like what you see? Visit the ' +\n",
       "            '<a target=\"_blank\" href=https://colab.research.google.com/notebooks/data_table.ipynb>data table notebook</a>'\n",
       "            + ' to learn more about interactive tables.';\n",
       "          element.innerHTML = '';\n",
       "          dataTable['output_type'] = 'display_data';\n",
       "          await google.colab.output.renderOutput(dataTable, element);\n",
       "          const docLink = document.createElement('div');\n",
       "          docLink.innerHTML = docLinkHtml;\n",
       "          element.appendChild(docLink);\n",
       "        }\n",
       "      </script>\n",
       "    </div>\n",
       "  </div>\n",
       "  "
      ],
      "text/plain": [
       "             nr oj        nr ma         rok  ferma        liur        liod  \\\n",
       "count   118.000000   118.000000  118.000000  118.0  118.000000  118.000000   \n",
       "mean   3058.135593  3809.313559   89.754237    1.0    4.084746    3.601695   \n",
       "std    1772.848111  1505.765352    1.260419    0.0    1.998188    1.710400   \n",
       "min     690.000000  1287.000000   88.000000    1.0    0.000000    0.000000   \n",
       "25%    1285.000000  2993.000000   89.000000    1.0    2.000000    2.000000   \n",
       "50%    2212.000000  3794.500000   89.000000    1.0    4.000000    3.000000   \n",
       "75%    5539.250000  5351.500000   91.000000    1.0    6.000000    5.000000   \n",
       "max    6123.000000  6137.000000   92.000000    1.0    8.000000    7.000000   \n",
       "\n",
       "           c1(BS)      c2(CT)      c3(CP)      c4(CD)      c5(HL)      c6(PS)  \\\n",
       "count  118.000000  118.000000  118.000000  118.000000  118.000000  118.000000   \n",
       "mean     5.644068    2.915254    2.406780    2.957627    5.415254    5.711864   \n",
       "std      0.768231    0.382888    0.493328    0.202297    0.559705    0.454826   \n",
       "min      4.000000    1.000000    2.000000    2.000000    4.000000    5.000000   \n",
       "25%      6.000000    3.000000    2.000000    3.000000    5.000000    5.000000   \n",
       "50%      6.000000    3.000000    2.000000    3.000000    5.000000    6.000000   \n",
       "75%      6.000000    3.000000    3.000000    3.000000    6.000000    6.000000   \n",
       "max      6.000000    3.000000    3.000000    3.000000    6.000000    6.000000   \n",
       "\n",
       "           c7(GA)         LOP  Unnamed: 15  Unnamed: 16  \n",
       "count  118.000000  118.000000          0.0          0.0  \n",
       "mean     2.652542   27.703390          NaN          NaN  \n",
       "std      0.545018    1.104066          NaN          NaN  \n",
       "min      1.000000   25.000000          NaN          NaN  \n",
       "25%      2.000000   27.000000          NaN          NaN  \n",
       "50%      3.000000   28.000000          NaN          NaN  \n",
       "75%      3.000000   28.000000          NaN          NaN  \n",
       "max      3.000000   30.000000          NaN          NaN  "
      ]
     },
     "execution_count": 39,
     "metadata": {},
     "output_type": "execute_result"
    }
   ],
   "source": [
    "ferma1.describe()"
   ]
  },
  {
   "cell_type": "code",
   "execution_count": 40,
   "metadata": {
    "colab": {
     "base_uri": "https://localhost:8080/",
     "height": 378
    },
    "id": "KrrSOVdY6GiB",
    "outputId": "75a84da8-fa6d-48cf-d3c8-06bd8b02e4be"
   },
   "outputs": [
    {
     "data": {
      "text/html": [
       "\n",
       "  <div id=\"df-d22add39-63a1-4ddb-92f7-e2b82ede8ac6\">\n",
       "    <div class=\"colab-df-container\">\n",
       "      <div>\n",
       "<style scoped>\n",
       "    .dataframe tbody tr th:only-of-type {\n",
       "        vertical-align: middle;\n",
       "    }\n",
       "\n",
       "    .dataframe tbody tr th {\n",
       "        vertical-align: top;\n",
       "    }\n",
       "\n",
       "    .dataframe thead th {\n",
       "        text-align: right;\n",
       "    }\n",
       "</style>\n",
       "<table border=\"1\" class=\"dataframe\">\n",
       "  <thead>\n",
       "    <tr style=\"text-align: right;\">\n",
       "      <th></th>\n",
       "      <th>nr oj</th>\n",
       "      <th>nr ma</th>\n",
       "      <th>rok</th>\n",
       "      <th>ferma</th>\n",
       "      <th>liur</th>\n",
       "      <th>liod</th>\n",
       "      <th>c1(BS)</th>\n",
       "      <th>c2(CT)</th>\n",
       "      <th>c3(CP)</th>\n",
       "      <th>c4(CD)</th>\n",
       "      <th>c5(HL)</th>\n",
       "      <th>c6(PS)</th>\n",
       "      <th>c7(GA)</th>\n",
       "      <th>LOP</th>\n",
       "      <th>Unnamed: 15</th>\n",
       "      <th>Unnamed: 16</th>\n",
       "    </tr>\n",
       "  </thead>\n",
       "  <tbody>\n",
       "    <tr>\n",
       "      <th>count</th>\n",
       "      <td>1080.000000</td>\n",
       "      <td>1080.000000</td>\n",
       "      <td>1080.000000</td>\n",
       "      <td>1080.0</td>\n",
       "      <td>1080.000000</td>\n",
       "      <td>1080.000000</td>\n",
       "      <td>1080.000000</td>\n",
       "      <td>1080.000000</td>\n",
       "      <td>1080.000000</td>\n",
       "      <td>1080.000000</td>\n",
       "      <td>1080.000000</td>\n",
       "      <td>1080.000000</td>\n",
       "      <td>1080.000000</td>\n",
       "      <td>1080.000000</td>\n",
       "      <td>0.0</td>\n",
       "      <td>0.0</td>\n",
       "    </tr>\n",
       "    <tr>\n",
       "      <th>mean</th>\n",
       "      <td>3024.087963</td>\n",
       "      <td>3295.375926</td>\n",
       "      <td>89.592593</td>\n",
       "      <td>2.0</td>\n",
       "      <td>5.206481</td>\n",
       "      <td>4.176852</td>\n",
       "      <td>4.050000</td>\n",
       "      <td>2.317593</td>\n",
       "      <td>2.801852</td>\n",
       "      <td>2.835185</td>\n",
       "      <td>5.377778</td>\n",
       "      <td>4.917593</td>\n",
       "      <td>2.973148</td>\n",
       "      <td>25.273148</td>\n",
       "      <td>NaN</td>\n",
       "      <td>NaN</td>\n",
       "    </tr>\n",
       "    <tr>\n",
       "      <th>std</th>\n",
       "      <td>1430.823638</td>\n",
       "      <td>1485.663492</td>\n",
       "      <td>1.161133</td>\n",
       "      <td>0.0</td>\n",
       "      <td>1.341901</td>\n",
       "      <td>1.352998</td>\n",
       "      <td>0.951707</td>\n",
       "      <td>0.695588</td>\n",
       "      <td>0.401106</td>\n",
       "      <td>0.404634</td>\n",
       "      <td>0.557921</td>\n",
       "      <td>0.613159</td>\n",
       "      <td>0.178089</td>\n",
       "      <td>1.591923</td>\n",
       "      <td>NaN</td>\n",
       "      <td>NaN</td>\n",
       "    </tr>\n",
       "    <tr>\n",
       "      <th>min</th>\n",
       "      <td>713.000000</td>\n",
       "      <td>703.000000</td>\n",
       "      <td>88.000000</td>\n",
       "      <td>2.0</td>\n",
       "      <td>1.000000</td>\n",
       "      <td>1.000000</td>\n",
       "      <td>2.000000</td>\n",
       "      <td>1.000000</td>\n",
       "      <td>1.000000</td>\n",
       "      <td>1.000000</td>\n",
       "      <td>4.000000</td>\n",
       "      <td>2.000000</td>\n",
       "      <td>1.000000</td>\n",
       "      <td>20.000000</td>\n",
       "      <td>NaN</td>\n",
       "      <td>NaN</td>\n",
       "    </tr>\n",
       "    <tr>\n",
       "      <th>25%</th>\n",
       "      <td>2268.000000</td>\n",
       "      <td>2265.000000</td>\n",
       "      <td>89.000000</td>\n",
       "      <td>2.0</td>\n",
       "      <td>4.000000</td>\n",
       "      <td>3.000000</td>\n",
       "      <td>4.000000</td>\n",
       "      <td>2.000000</td>\n",
       "      <td>3.000000</td>\n",
       "      <td>3.000000</td>\n",
       "      <td>5.000000</td>\n",
       "      <td>5.000000</td>\n",
       "      <td>3.000000</td>\n",
       "      <td>24.000000</td>\n",
       "      <td>NaN</td>\n",
       "      <td>NaN</td>\n",
       "    </tr>\n",
       "    <tr>\n",
       "      <th>50%</th>\n",
       "      <td>3152.000000</td>\n",
       "      <td>3249.000000</td>\n",
       "      <td>89.000000</td>\n",
       "      <td>2.0</td>\n",
       "      <td>5.000000</td>\n",
       "      <td>4.000000</td>\n",
       "      <td>4.000000</td>\n",
       "      <td>2.000000</td>\n",
       "      <td>3.000000</td>\n",
       "      <td>3.000000</td>\n",
       "      <td>5.000000</td>\n",
       "      <td>5.000000</td>\n",
       "      <td>3.000000</td>\n",
       "      <td>25.000000</td>\n",
       "      <td>NaN</td>\n",
       "      <td>NaN</td>\n",
       "    </tr>\n",
       "    <tr>\n",
       "      <th>75%</th>\n",
       "      <td>3977.000000</td>\n",
       "      <td>4052.000000</td>\n",
       "      <td>90.000000</td>\n",
       "      <td>2.0</td>\n",
       "      <td>6.000000</td>\n",
       "      <td>5.000000</td>\n",
       "      <td>4.000000</td>\n",
       "      <td>3.000000</td>\n",
       "      <td>3.000000</td>\n",
       "      <td>3.000000</td>\n",
       "      <td>6.000000</td>\n",
       "      <td>5.000000</td>\n",
       "      <td>3.000000</td>\n",
       "      <td>26.000000</td>\n",
       "      <td>NaN</td>\n",
       "      <td>NaN</td>\n",
       "    </tr>\n",
       "    <tr>\n",
       "      <th>max</th>\n",
       "      <td>6318.000000</td>\n",
       "      <td>6311.000000</td>\n",
       "      <td>92.000000</td>\n",
       "      <td>2.0</td>\n",
       "      <td>9.000000</td>\n",
       "      <td>8.000000</td>\n",
       "      <td>6.000000</td>\n",
       "      <td>3.000000</td>\n",
       "      <td>3.000000</td>\n",
       "      <td>3.000000</td>\n",
       "      <td>6.000000</td>\n",
       "      <td>6.000000</td>\n",
       "      <td>3.000000</td>\n",
       "      <td>29.000000</td>\n",
       "      <td>NaN</td>\n",
       "      <td>NaN</td>\n",
       "    </tr>\n",
       "  </tbody>\n",
       "</table>\n",
       "</div>\n",
       "      <button class=\"colab-df-convert\" onclick=\"convertToInteractive('df-d22add39-63a1-4ddb-92f7-e2b82ede8ac6')\"\n",
       "              title=\"Convert this dataframe to an interactive table.\"\n",
       "              style=\"display:none;\">\n",
       "        \n",
       "  <svg xmlns=\"http://www.w3.org/2000/svg\" height=\"24px\"viewBox=\"0 0 24 24\"\n",
       "       width=\"24px\">\n",
       "    <path d=\"M0 0h24v24H0V0z\" fill=\"none\"/>\n",
       "    <path d=\"M18.56 5.44l.94 2.06.94-2.06 2.06-.94-2.06-.94-.94-2.06-.94 2.06-2.06.94zm-11 1L8.5 8.5l.94-2.06 2.06-.94-2.06-.94L8.5 2.5l-.94 2.06-2.06.94zm10 10l.94 2.06.94-2.06 2.06-.94-2.06-.94-.94-2.06-.94 2.06-2.06.94z\"/><path d=\"M17.41 7.96l-1.37-1.37c-.4-.4-.92-.59-1.43-.59-.52 0-1.04.2-1.43.59L10.3 9.45l-7.72 7.72c-.78.78-.78 2.05 0 2.83L4 21.41c.39.39.9.59 1.41.59.51 0 1.02-.2 1.41-.59l7.78-7.78 2.81-2.81c.8-.78.8-2.07 0-2.86zM5.41 20L4 18.59l7.72-7.72 1.47 1.35L5.41 20z\"/>\n",
       "  </svg>\n",
       "      </button>\n",
       "      \n",
       "  <style>\n",
       "    .colab-df-container {\n",
       "      display:flex;\n",
       "      flex-wrap:wrap;\n",
       "      gap: 12px;\n",
       "    }\n",
       "\n",
       "    .colab-df-convert {\n",
       "      background-color: #E8F0FE;\n",
       "      border: none;\n",
       "      border-radius: 50%;\n",
       "      cursor: pointer;\n",
       "      display: none;\n",
       "      fill: #1967D2;\n",
       "      height: 32px;\n",
       "      padding: 0 0 0 0;\n",
       "      width: 32px;\n",
       "    }\n",
       "\n",
       "    .colab-df-convert:hover {\n",
       "      background-color: #E2EBFA;\n",
       "      box-shadow: 0px 1px 2px rgba(60, 64, 67, 0.3), 0px 1px 3px 1px rgba(60, 64, 67, 0.15);\n",
       "      fill: #174EA6;\n",
       "    }\n",
       "\n",
       "    [theme=dark] .colab-df-convert {\n",
       "      background-color: #3B4455;\n",
       "      fill: #D2E3FC;\n",
       "    }\n",
       "\n",
       "    [theme=dark] .colab-df-convert:hover {\n",
       "      background-color: #434B5C;\n",
       "      box-shadow: 0px 1px 3px 1px rgba(0, 0, 0, 0.15);\n",
       "      filter: drop-shadow(0px 1px 2px rgba(0, 0, 0, 0.3));\n",
       "      fill: #FFFFFF;\n",
       "    }\n",
       "  </style>\n",
       "\n",
       "      <script>\n",
       "        const buttonEl =\n",
       "          document.querySelector('#df-d22add39-63a1-4ddb-92f7-e2b82ede8ac6 button.colab-df-convert');\n",
       "        buttonEl.style.display =\n",
       "          google.colab.kernel.accessAllowed ? 'block' : 'none';\n",
       "\n",
       "        async function convertToInteractive(key) {\n",
       "          const element = document.querySelector('#df-d22add39-63a1-4ddb-92f7-e2b82ede8ac6');\n",
       "          const dataTable =\n",
       "            await google.colab.kernel.invokeFunction('convertToInteractive',\n",
       "                                                     [key], {});\n",
       "          if (!dataTable) return;\n",
       "\n",
       "          const docLinkHtml = 'Like what you see? Visit the ' +\n",
       "            '<a target=\"_blank\" href=https://colab.research.google.com/notebooks/data_table.ipynb>data table notebook</a>'\n",
       "            + ' to learn more about interactive tables.';\n",
       "          element.innerHTML = '';\n",
       "          dataTable['output_type'] = 'display_data';\n",
       "          await google.colab.output.renderOutput(dataTable, element);\n",
       "          const docLink = document.createElement('div');\n",
       "          docLink.innerHTML = docLinkHtml;\n",
       "          element.appendChild(docLink);\n",
       "        }\n",
       "      </script>\n",
       "    </div>\n",
       "  </div>\n",
       "  "
      ],
      "text/plain": [
       "             nr oj        nr ma          rok   ferma         liur  \\\n",
       "count  1080.000000  1080.000000  1080.000000  1080.0  1080.000000   \n",
       "mean   3024.087963  3295.375926    89.592593     2.0     5.206481   \n",
       "std    1430.823638  1485.663492     1.161133     0.0     1.341901   \n",
       "min     713.000000   703.000000    88.000000     2.0     1.000000   \n",
       "25%    2268.000000  2265.000000    89.000000     2.0     4.000000   \n",
       "50%    3152.000000  3249.000000    89.000000     2.0     5.000000   \n",
       "75%    3977.000000  4052.000000    90.000000     2.0     6.000000   \n",
       "max    6318.000000  6311.000000    92.000000     2.0     9.000000   \n",
       "\n",
       "              liod       c1(BS)       c2(CT)       c3(CP)       c4(CD)  \\\n",
       "count  1080.000000  1080.000000  1080.000000  1080.000000  1080.000000   \n",
       "mean      4.176852     4.050000     2.317593     2.801852     2.835185   \n",
       "std       1.352998     0.951707     0.695588     0.401106     0.404634   \n",
       "min       1.000000     2.000000     1.000000     1.000000     1.000000   \n",
       "25%       3.000000     4.000000     2.000000     3.000000     3.000000   \n",
       "50%       4.000000     4.000000     2.000000     3.000000     3.000000   \n",
       "75%       5.000000     4.000000     3.000000     3.000000     3.000000   \n",
       "max       8.000000     6.000000     3.000000     3.000000     3.000000   \n",
       "\n",
       "            c5(HL)       c6(PS)       c7(GA)          LOP  Unnamed: 15  \\\n",
       "count  1080.000000  1080.000000  1080.000000  1080.000000          0.0   \n",
       "mean      5.377778     4.917593     2.973148    25.273148          NaN   \n",
       "std       0.557921     0.613159     0.178089     1.591923          NaN   \n",
       "min       4.000000     2.000000     1.000000    20.000000          NaN   \n",
       "25%       5.000000     5.000000     3.000000    24.000000          NaN   \n",
       "50%       5.000000     5.000000     3.000000    25.000000          NaN   \n",
       "75%       6.000000     5.000000     3.000000    26.000000          NaN   \n",
       "max       6.000000     6.000000     3.000000    29.000000          NaN   \n",
       "\n",
       "       Unnamed: 16  \n",
       "count          0.0  \n",
       "mean           NaN  \n",
       "std            NaN  \n",
       "min            NaN  \n",
       "25%            NaN  \n",
       "50%            NaN  \n",
       "75%            NaN  \n",
       "max            NaN  "
      ]
     },
     "execution_count": 40,
     "metadata": {},
     "output_type": "execute_result"
    }
   ],
   "source": [
    "ferma2.describe()"
   ]
  },
  {
   "cell_type": "code",
   "execution_count": 41,
   "metadata": {
    "colab": {
     "base_uri": "https://localhost:8080/",
     "height": 378
    },
    "id": "-V3-dhhL8nGi",
    "outputId": "d412f929-4dc5-4d10-e77f-d79f8d79b0b2"
   },
   "outputs": [
    {
     "data": {
      "text/html": [
       "\n",
       "  <div id=\"df-d9948c8a-0634-447a-9e3b-b767afaab3b5\">\n",
       "    <div class=\"colab-df-container\">\n",
       "      <div>\n",
       "<style scoped>\n",
       "    .dataframe tbody tr th:only-of-type {\n",
       "        vertical-align: middle;\n",
       "    }\n",
       "\n",
       "    .dataframe tbody tr th {\n",
       "        vertical-align: top;\n",
       "    }\n",
       "\n",
       "    .dataframe thead th {\n",
       "        text-align: right;\n",
       "    }\n",
       "</style>\n",
       "<table border=\"1\" class=\"dataframe\">\n",
       "  <thead>\n",
       "    <tr style=\"text-align: right;\">\n",
       "      <th></th>\n",
       "      <th>nr oj</th>\n",
       "      <th>nr ma</th>\n",
       "      <th>rok</th>\n",
       "      <th>ferma</th>\n",
       "      <th>liur</th>\n",
       "      <th>liod</th>\n",
       "      <th>c1(BS)</th>\n",
       "      <th>c2(CT)</th>\n",
       "      <th>c3(CP)</th>\n",
       "      <th>c4(CD)</th>\n",
       "      <th>c5(HL)</th>\n",
       "      <th>c6(PS)</th>\n",
       "      <th>c7(GA)</th>\n",
       "      <th>LOP</th>\n",
       "      <th>Unnamed: 15</th>\n",
       "      <th>Unnamed: 16</th>\n",
       "    </tr>\n",
       "  </thead>\n",
       "  <tbody>\n",
       "    <tr>\n",
       "      <th>count</th>\n",
       "      <td>1758.000000</td>\n",
       "      <td>1758.000000</td>\n",
       "      <td>1758.000000</td>\n",
       "      <td>1758.0</td>\n",
       "      <td>1758.000000</td>\n",
       "      <td>1758.000000</td>\n",
       "      <td>1758.000000</td>\n",
       "      <td>1758.000000</td>\n",
       "      <td>1758.000000</td>\n",
       "      <td>1758.000000</td>\n",
       "      <td>1758.000000</td>\n",
       "      <td>1758.000000</td>\n",
       "      <td>1758.000000</td>\n",
       "      <td>1758.000000</td>\n",
       "      <td>0.0</td>\n",
       "      <td>0.0</td>\n",
       "    </tr>\n",
       "    <tr>\n",
       "      <th>mean</th>\n",
       "      <td>2862.451081</td>\n",
       "      <td>2272.474403</td>\n",
       "      <td>89.483504</td>\n",
       "      <td>3.0</td>\n",
       "      <td>5.472696</td>\n",
       "      <td>5.079636</td>\n",
       "      <td>4.559158</td>\n",
       "      <td>2.696246</td>\n",
       "      <td>2.905575</td>\n",
       "      <td>2.818544</td>\n",
       "      <td>5.674061</td>\n",
       "      <td>5.794084</td>\n",
       "      <td>2.492036</td>\n",
       "      <td>26.933447</td>\n",
       "      <td>NaN</td>\n",
       "      <td>NaN</td>\n",
       "    </tr>\n",
       "    <tr>\n",
       "      <th>std</th>\n",
       "      <td>1615.818513</td>\n",
       "      <td>1685.930619</td>\n",
       "      <td>1.331511</td>\n",
       "      <td>0.0</td>\n",
       "      <td>1.387026</td>\n",
       "      <td>1.385520</td>\n",
       "      <td>1.039720</td>\n",
       "      <td>0.475821</td>\n",
       "      <td>0.429640</td>\n",
       "      <td>0.457104</td>\n",
       "      <td>0.526064</td>\n",
       "      <td>0.415589</td>\n",
       "      <td>0.588927</td>\n",
       "      <td>1.281010</td>\n",
       "      <td>NaN</td>\n",
       "      <td>NaN</td>\n",
       "    </tr>\n",
       "    <tr>\n",
       "      <th>min</th>\n",
       "      <td>27.000000</td>\n",
       "      <td>3.000000</td>\n",
       "      <td>88.000000</td>\n",
       "      <td>3.0</td>\n",
       "      <td>1.000000</td>\n",
       "      <td>1.000000</td>\n",
       "      <td>2.000000</td>\n",
       "      <td>1.000000</td>\n",
       "      <td>1.000000</td>\n",
       "      <td>1.000000</td>\n",
       "      <td>3.000000</td>\n",
       "      <td>4.000000</td>\n",
       "      <td>1.000000</td>\n",
       "      <td>21.000000</td>\n",
       "      <td>NaN</td>\n",
       "      <td>NaN</td>\n",
       "    </tr>\n",
       "    <tr>\n",
       "      <th>25%</th>\n",
       "      <td>2117.000000</td>\n",
       "      <td>625.000000</td>\n",
       "      <td>88.000000</td>\n",
       "      <td>3.0</td>\n",
       "      <td>5.000000</td>\n",
       "      <td>4.000000</td>\n",
       "      <td>4.000000</td>\n",
       "      <td>2.000000</td>\n",
       "      <td>3.000000</td>\n",
       "      <td>3.000000</td>\n",
       "      <td>5.000000</td>\n",
       "      <td>6.000000</td>\n",
       "      <td>2.000000</td>\n",
       "      <td>26.000000</td>\n",
       "      <td>NaN</td>\n",
       "      <td>NaN</td>\n",
       "    </tr>\n",
       "    <tr>\n",
       "      <th>50%</th>\n",
       "      <td>2989.000000</td>\n",
       "      <td>2509.000000</td>\n",
       "      <td>89.000000</td>\n",
       "      <td>3.0</td>\n",
       "      <td>5.000000</td>\n",
       "      <td>5.000000</td>\n",
       "      <td>4.000000</td>\n",
       "      <td>3.000000</td>\n",
       "      <td>3.000000</td>\n",
       "      <td>3.000000</td>\n",
       "      <td>6.000000</td>\n",
       "      <td>6.000000</td>\n",
       "      <td>3.000000</td>\n",
       "      <td>27.000000</td>\n",
       "      <td>NaN</td>\n",
       "      <td>NaN</td>\n",
       "    </tr>\n",
       "    <tr>\n",
       "      <th>75%</th>\n",
       "      <td>4178.000000</td>\n",
       "      <td>3596.000000</td>\n",
       "      <td>90.000000</td>\n",
       "      <td>3.0</td>\n",
       "      <td>6.000000</td>\n",
       "      <td>6.000000</td>\n",
       "      <td>6.000000</td>\n",
       "      <td>3.000000</td>\n",
       "      <td>3.000000</td>\n",
       "      <td>3.000000</td>\n",
       "      <td>6.000000</td>\n",
       "      <td>6.000000</td>\n",
       "      <td>3.000000</td>\n",
       "      <td>28.000000</td>\n",
       "      <td>NaN</td>\n",
       "      <td>NaN</td>\n",
       "    </tr>\n",
       "    <tr>\n",
       "      <th>max</th>\n",
       "      <td>6368.000000</td>\n",
       "      <td>6369.000000</td>\n",
       "      <td>93.000000</td>\n",
       "      <td>3.0</td>\n",
       "      <td>9.000000</td>\n",
       "      <td>9.000000</td>\n",
       "      <td>6.000000</td>\n",
       "      <td>6.000000</td>\n",
       "      <td>6.000000</td>\n",
       "      <td>6.000000</td>\n",
       "      <td>6.000000</td>\n",
       "      <td>9.000000</td>\n",
       "      <td>9.000000</td>\n",
       "      <td>30.000000</td>\n",
       "      <td>NaN</td>\n",
       "      <td>NaN</td>\n",
       "    </tr>\n",
       "  </tbody>\n",
       "</table>\n",
       "</div>\n",
       "      <button class=\"colab-df-convert\" onclick=\"convertToInteractive('df-d9948c8a-0634-447a-9e3b-b767afaab3b5')\"\n",
       "              title=\"Convert this dataframe to an interactive table.\"\n",
       "              style=\"display:none;\">\n",
       "        \n",
       "  <svg xmlns=\"http://www.w3.org/2000/svg\" height=\"24px\"viewBox=\"0 0 24 24\"\n",
       "       width=\"24px\">\n",
       "    <path d=\"M0 0h24v24H0V0z\" fill=\"none\"/>\n",
       "    <path d=\"M18.56 5.44l.94 2.06.94-2.06 2.06-.94-2.06-.94-.94-2.06-.94 2.06-2.06.94zm-11 1L8.5 8.5l.94-2.06 2.06-.94-2.06-.94L8.5 2.5l-.94 2.06-2.06.94zm10 10l.94 2.06.94-2.06 2.06-.94-2.06-.94-.94-2.06-.94 2.06-2.06.94z\"/><path d=\"M17.41 7.96l-1.37-1.37c-.4-.4-.92-.59-1.43-.59-.52 0-1.04.2-1.43.59L10.3 9.45l-7.72 7.72c-.78.78-.78 2.05 0 2.83L4 21.41c.39.39.9.59 1.41.59.51 0 1.02-.2 1.41-.59l7.78-7.78 2.81-2.81c.8-.78.8-2.07 0-2.86zM5.41 20L4 18.59l7.72-7.72 1.47 1.35L5.41 20z\"/>\n",
       "  </svg>\n",
       "      </button>\n",
       "      \n",
       "  <style>\n",
       "    .colab-df-container {\n",
       "      display:flex;\n",
       "      flex-wrap:wrap;\n",
       "      gap: 12px;\n",
       "    }\n",
       "\n",
       "    .colab-df-convert {\n",
       "      background-color: #E8F0FE;\n",
       "      border: none;\n",
       "      border-radius: 50%;\n",
       "      cursor: pointer;\n",
       "      display: none;\n",
       "      fill: #1967D2;\n",
       "      height: 32px;\n",
       "      padding: 0 0 0 0;\n",
       "      width: 32px;\n",
       "    }\n",
       "\n",
       "    .colab-df-convert:hover {\n",
       "      background-color: #E2EBFA;\n",
       "      box-shadow: 0px 1px 2px rgba(60, 64, 67, 0.3), 0px 1px 3px 1px rgba(60, 64, 67, 0.15);\n",
       "      fill: #174EA6;\n",
       "    }\n",
       "\n",
       "    [theme=dark] .colab-df-convert {\n",
       "      background-color: #3B4455;\n",
       "      fill: #D2E3FC;\n",
       "    }\n",
       "\n",
       "    [theme=dark] .colab-df-convert:hover {\n",
       "      background-color: #434B5C;\n",
       "      box-shadow: 0px 1px 3px 1px rgba(0, 0, 0, 0.15);\n",
       "      filter: drop-shadow(0px 1px 2px rgba(0, 0, 0, 0.3));\n",
       "      fill: #FFFFFF;\n",
       "    }\n",
       "  </style>\n",
       "\n",
       "      <script>\n",
       "        const buttonEl =\n",
       "          document.querySelector('#df-d9948c8a-0634-447a-9e3b-b767afaab3b5 button.colab-df-convert');\n",
       "        buttonEl.style.display =\n",
       "          google.colab.kernel.accessAllowed ? 'block' : 'none';\n",
       "\n",
       "        async function convertToInteractive(key) {\n",
       "          const element = document.querySelector('#df-d9948c8a-0634-447a-9e3b-b767afaab3b5');\n",
       "          const dataTable =\n",
       "            await google.colab.kernel.invokeFunction('convertToInteractive',\n",
       "                                                     [key], {});\n",
       "          if (!dataTable) return;\n",
       "\n",
       "          const docLinkHtml = 'Like what you see? Visit the ' +\n",
       "            '<a target=\"_blank\" href=https://colab.research.google.com/notebooks/data_table.ipynb>data table notebook</a>'\n",
       "            + ' to learn more about interactive tables.';\n",
       "          element.innerHTML = '';\n",
       "          dataTable['output_type'] = 'display_data';\n",
       "          await google.colab.output.renderOutput(dataTable, element);\n",
       "          const docLink = document.createElement('div');\n",
       "          docLink.innerHTML = docLinkHtml;\n",
       "          element.appendChild(docLink);\n",
       "        }\n",
       "      </script>\n",
       "    </div>\n",
       "  </div>\n",
       "  "
      ],
      "text/plain": [
       "             nr oj        nr ma          rok   ferma         liur  \\\n",
       "count  1758.000000  1758.000000  1758.000000  1758.0  1758.000000   \n",
       "mean   2862.451081  2272.474403    89.483504     3.0     5.472696   \n",
       "std    1615.818513  1685.930619     1.331511     0.0     1.387026   \n",
       "min      27.000000     3.000000    88.000000     3.0     1.000000   \n",
       "25%    2117.000000   625.000000    88.000000     3.0     5.000000   \n",
       "50%    2989.000000  2509.000000    89.000000     3.0     5.000000   \n",
       "75%    4178.000000  3596.000000    90.000000     3.0     6.000000   \n",
       "max    6368.000000  6369.000000    93.000000     3.0     9.000000   \n",
       "\n",
       "              liod       c1(BS)       c2(CT)       c3(CP)       c4(CD)  \\\n",
       "count  1758.000000  1758.000000  1758.000000  1758.000000  1758.000000   \n",
       "mean      5.079636     4.559158     2.696246     2.905575     2.818544   \n",
       "std       1.385520     1.039720     0.475821     0.429640     0.457104   \n",
       "min       1.000000     2.000000     1.000000     1.000000     1.000000   \n",
       "25%       4.000000     4.000000     2.000000     3.000000     3.000000   \n",
       "50%       5.000000     4.000000     3.000000     3.000000     3.000000   \n",
       "75%       6.000000     6.000000     3.000000     3.000000     3.000000   \n",
       "max       9.000000     6.000000     6.000000     6.000000     6.000000   \n",
       "\n",
       "            c5(HL)       c6(PS)       c7(GA)          LOP  Unnamed: 15  \\\n",
       "count  1758.000000  1758.000000  1758.000000  1758.000000          0.0   \n",
       "mean      5.674061     5.794084     2.492036    26.933447          NaN   \n",
       "std       0.526064     0.415589     0.588927     1.281010          NaN   \n",
       "min       3.000000     4.000000     1.000000    21.000000          NaN   \n",
       "25%       5.000000     6.000000     2.000000    26.000000          NaN   \n",
       "50%       6.000000     6.000000     3.000000    27.000000          NaN   \n",
       "75%       6.000000     6.000000     3.000000    28.000000          NaN   \n",
       "max       6.000000     9.000000     9.000000    30.000000          NaN   \n",
       "\n",
       "       Unnamed: 16  \n",
       "count          0.0  \n",
       "mean           NaN  \n",
       "std            NaN  \n",
       "min            NaN  \n",
       "25%            NaN  \n",
       "50%            NaN  \n",
       "75%            NaN  \n",
       "max            NaN  "
      ]
     },
     "execution_count": 41,
     "metadata": {},
     "output_type": "execute_result"
    }
   ],
   "source": [
    "ferma3.describe()"
   ]
  },
  {
   "cell_type": "code",
   "execution_count": 42,
   "metadata": {
    "colab": {
     "base_uri": "https://localhost:8080/",
     "height": 378
    },
    "id": "2M4vZIZV6JKf",
    "outputId": "a5e21f49-3daa-47d9-eee2-9b971edef06a"
   },
   "outputs": [
    {
     "data": {
      "text/html": [
       "\n",
       "  <div id=\"df-58822c64-664c-4d5b-b570-2d09749e2ada\">\n",
       "    <div class=\"colab-df-container\">\n",
       "      <div>\n",
       "<style scoped>\n",
       "    .dataframe tbody tr th:only-of-type {\n",
       "        vertical-align: middle;\n",
       "    }\n",
       "\n",
       "    .dataframe tbody tr th {\n",
       "        vertical-align: top;\n",
       "    }\n",
       "\n",
       "    .dataframe thead th {\n",
       "        text-align: right;\n",
       "    }\n",
       "</style>\n",
       "<table border=\"1\" class=\"dataframe\">\n",
       "  <thead>\n",
       "    <tr style=\"text-align: right;\">\n",
       "      <th></th>\n",
       "      <th>nr ma</th>\n",
       "      <th>rok</th>\n",
       "      <th>ferma</th>\n",
       "      <th>liur</th>\n",
       "      <th>liod</th>\n",
       "      <th>c1(BS)</th>\n",
       "      <th>c2(CT)</th>\n",
       "      <th>c3(CP)</th>\n",
       "      <th>c4(CD)</th>\n",
       "      <th>c5(HL)</th>\n",
       "      <th>c6(PS)</th>\n",
       "      <th>c7(GA)</th>\n",
       "      <th>LOP</th>\n",
       "      <th>Unnamed: 15</th>\n",
       "      <th>Unnamed: 16</th>\n",
       "    </tr>\n",
       "  </thead>\n",
       "  <tbody>\n",
       "    <tr>\n",
       "      <th>count</th>\n",
       "      <td>1758.000000</td>\n",
       "      <td>1758.000000</td>\n",
       "      <td>1758.0</td>\n",
       "      <td>1758.000000</td>\n",
       "      <td>1758.000000</td>\n",
       "      <td>1758.000000</td>\n",
       "      <td>1758.000000</td>\n",
       "      <td>1758.000000</td>\n",
       "      <td>1758.000000</td>\n",
       "      <td>1758.000000</td>\n",
       "      <td>1758.000000</td>\n",
       "      <td>1758.000000</td>\n",
       "      <td>1758.000000</td>\n",
       "      <td>0.0</td>\n",
       "      <td>0.0</td>\n",
       "    </tr>\n",
       "    <tr>\n",
       "      <th>mean</th>\n",
       "      <td>2272.474403</td>\n",
       "      <td>89.483504</td>\n",
       "      <td>3.0</td>\n",
       "      <td>5.472696</td>\n",
       "      <td>5.079636</td>\n",
       "      <td>4.559158</td>\n",
       "      <td>2.696246</td>\n",
       "      <td>2.905575</td>\n",
       "      <td>2.818544</td>\n",
       "      <td>5.674061</td>\n",
       "      <td>5.794084</td>\n",
       "      <td>2.492036</td>\n",
       "      <td>26.933447</td>\n",
       "      <td>NaN</td>\n",
       "      <td>NaN</td>\n",
       "    </tr>\n",
       "    <tr>\n",
       "      <th>std</th>\n",
       "      <td>1685.930619</td>\n",
       "      <td>1.331511</td>\n",
       "      <td>0.0</td>\n",
       "      <td>1.387026</td>\n",
       "      <td>1.385520</td>\n",
       "      <td>1.039720</td>\n",
       "      <td>0.475821</td>\n",
       "      <td>0.429640</td>\n",
       "      <td>0.457104</td>\n",
       "      <td>0.526064</td>\n",
       "      <td>0.415589</td>\n",
       "      <td>0.588927</td>\n",
       "      <td>1.281010</td>\n",
       "      <td>NaN</td>\n",
       "      <td>NaN</td>\n",
       "    </tr>\n",
       "    <tr>\n",
       "      <th>min</th>\n",
       "      <td>3.000000</td>\n",
       "      <td>88.000000</td>\n",
       "      <td>3.0</td>\n",
       "      <td>1.000000</td>\n",
       "      <td>1.000000</td>\n",
       "      <td>2.000000</td>\n",
       "      <td>1.000000</td>\n",
       "      <td>1.000000</td>\n",
       "      <td>1.000000</td>\n",
       "      <td>3.000000</td>\n",
       "      <td>4.000000</td>\n",
       "      <td>1.000000</td>\n",
       "      <td>21.000000</td>\n",
       "      <td>NaN</td>\n",
       "      <td>NaN</td>\n",
       "    </tr>\n",
       "    <tr>\n",
       "      <th>25%</th>\n",
       "      <td>625.000000</td>\n",
       "      <td>88.000000</td>\n",
       "      <td>3.0</td>\n",
       "      <td>5.000000</td>\n",
       "      <td>4.000000</td>\n",
       "      <td>4.000000</td>\n",
       "      <td>2.000000</td>\n",
       "      <td>3.000000</td>\n",
       "      <td>3.000000</td>\n",
       "      <td>5.000000</td>\n",
       "      <td>6.000000</td>\n",
       "      <td>2.000000</td>\n",
       "      <td>26.000000</td>\n",
       "      <td>NaN</td>\n",
       "      <td>NaN</td>\n",
       "    </tr>\n",
       "    <tr>\n",
       "      <th>50%</th>\n",
       "      <td>2509.000000</td>\n",
       "      <td>89.000000</td>\n",
       "      <td>3.0</td>\n",
       "      <td>5.000000</td>\n",
       "      <td>5.000000</td>\n",
       "      <td>4.000000</td>\n",
       "      <td>3.000000</td>\n",
       "      <td>3.000000</td>\n",
       "      <td>3.000000</td>\n",
       "      <td>6.000000</td>\n",
       "      <td>6.000000</td>\n",
       "      <td>3.000000</td>\n",
       "      <td>27.000000</td>\n",
       "      <td>NaN</td>\n",
       "      <td>NaN</td>\n",
       "    </tr>\n",
       "    <tr>\n",
       "      <th>75%</th>\n",
       "      <td>3596.000000</td>\n",
       "      <td>90.000000</td>\n",
       "      <td>3.0</td>\n",
       "      <td>6.000000</td>\n",
       "      <td>6.000000</td>\n",
       "      <td>6.000000</td>\n",
       "      <td>3.000000</td>\n",
       "      <td>3.000000</td>\n",
       "      <td>3.000000</td>\n",
       "      <td>6.000000</td>\n",
       "      <td>6.000000</td>\n",
       "      <td>3.000000</td>\n",
       "      <td>28.000000</td>\n",
       "      <td>NaN</td>\n",
       "      <td>NaN</td>\n",
       "    </tr>\n",
       "    <tr>\n",
       "      <th>max</th>\n",
       "      <td>6369.000000</td>\n",
       "      <td>93.000000</td>\n",
       "      <td>3.0</td>\n",
       "      <td>9.000000</td>\n",
       "      <td>9.000000</td>\n",
       "      <td>6.000000</td>\n",
       "      <td>6.000000</td>\n",
       "      <td>6.000000</td>\n",
       "      <td>6.000000</td>\n",
       "      <td>6.000000</td>\n",
       "      <td>9.000000</td>\n",
       "      <td>9.000000</td>\n",
       "      <td>30.000000</td>\n",
       "      <td>NaN</td>\n",
       "      <td>NaN</td>\n",
       "    </tr>\n",
       "  </tbody>\n",
       "</table>\n",
       "</div>\n",
       "      <button class=\"colab-df-convert\" onclick=\"convertToInteractive('df-58822c64-664c-4d5b-b570-2d09749e2ada')\"\n",
       "              title=\"Convert this dataframe to an interactive table.\"\n",
       "              style=\"display:none;\">\n",
       "        \n",
       "  <svg xmlns=\"http://www.w3.org/2000/svg\" height=\"24px\"viewBox=\"0 0 24 24\"\n",
       "       width=\"24px\">\n",
       "    <path d=\"M0 0h24v24H0V0z\" fill=\"none\"/>\n",
       "    <path d=\"M18.56 5.44l.94 2.06.94-2.06 2.06-.94-2.06-.94-.94-2.06-.94 2.06-2.06.94zm-11 1L8.5 8.5l.94-2.06 2.06-.94-2.06-.94L8.5 2.5l-.94 2.06-2.06.94zm10 10l.94 2.06.94-2.06 2.06-.94-2.06-.94-.94-2.06-.94 2.06-2.06.94z\"/><path d=\"M17.41 7.96l-1.37-1.37c-.4-.4-.92-.59-1.43-.59-.52 0-1.04.2-1.43.59L10.3 9.45l-7.72 7.72c-.78.78-.78 2.05 0 2.83L4 21.41c.39.39.9.59 1.41.59.51 0 1.02-.2 1.41-.59l7.78-7.78 2.81-2.81c.8-.78.8-2.07 0-2.86zM5.41 20L4 18.59l7.72-7.72 1.47 1.35L5.41 20z\"/>\n",
       "  </svg>\n",
       "      </button>\n",
       "      \n",
       "  <style>\n",
       "    .colab-df-container {\n",
       "      display:flex;\n",
       "      flex-wrap:wrap;\n",
       "      gap: 12px;\n",
       "    }\n",
       "\n",
       "    .colab-df-convert {\n",
       "      background-color: #E8F0FE;\n",
       "      border: none;\n",
       "      border-radius: 50%;\n",
       "      cursor: pointer;\n",
       "      display: none;\n",
       "      fill: #1967D2;\n",
       "      height: 32px;\n",
       "      padding: 0 0 0 0;\n",
       "      width: 32px;\n",
       "    }\n",
       "\n",
       "    .colab-df-convert:hover {\n",
       "      background-color: #E2EBFA;\n",
       "      box-shadow: 0px 1px 2px rgba(60, 64, 67, 0.3), 0px 1px 3px 1px rgba(60, 64, 67, 0.15);\n",
       "      fill: #174EA6;\n",
       "    }\n",
       "\n",
       "    [theme=dark] .colab-df-convert {\n",
       "      background-color: #3B4455;\n",
       "      fill: #D2E3FC;\n",
       "    }\n",
       "\n",
       "    [theme=dark] .colab-df-convert:hover {\n",
       "      background-color: #434B5C;\n",
       "      box-shadow: 0px 1px 3px 1px rgba(0, 0, 0, 0.15);\n",
       "      filter: drop-shadow(0px 1px 2px rgba(0, 0, 0, 0.3));\n",
       "      fill: #FFFFFF;\n",
       "    }\n",
       "  </style>\n",
       "\n",
       "      <script>\n",
       "        const buttonEl =\n",
       "          document.querySelector('#df-58822c64-664c-4d5b-b570-2d09749e2ada button.colab-df-convert');\n",
       "        buttonEl.style.display =\n",
       "          google.colab.kernel.accessAllowed ? 'block' : 'none';\n",
       "\n",
       "        async function convertToInteractive(key) {\n",
       "          const element = document.querySelector('#df-58822c64-664c-4d5b-b570-2d09749e2ada');\n",
       "          const dataTable =\n",
       "            await google.colab.kernel.invokeFunction('convertToInteractive',\n",
       "                                                     [key], {});\n",
       "          if (!dataTable) return;\n",
       "\n",
       "          const docLinkHtml = 'Like what you see? Visit the ' +\n",
       "            '<a target=\"_blank\" href=https://colab.research.google.com/notebooks/data_table.ipynb>data table notebook</a>'\n",
       "            + ' to learn more about interactive tables.';\n",
       "          element.innerHTML = '';\n",
       "          dataTable['output_type'] = 'display_data';\n",
       "          await google.colab.output.renderOutput(dataTable, element);\n",
       "          const docLink = document.createElement('div');\n",
       "          docLink.innerHTML = docLinkHtml;\n",
       "          element.appendChild(docLink);\n",
       "        }\n",
       "      </script>\n",
       "    </div>\n",
       "  </div>\n",
       "  "
      ],
      "text/plain": [
       "             nr ma          rok   ferma         liur         liod  \\\n",
       "count  1758.000000  1758.000000  1758.0  1758.000000  1758.000000   \n",
       "mean   2272.474403    89.483504     3.0     5.472696     5.079636   \n",
       "std    1685.930619     1.331511     0.0     1.387026     1.385520   \n",
       "min       3.000000    88.000000     3.0     1.000000     1.000000   \n",
       "25%     625.000000    88.000000     3.0     5.000000     4.000000   \n",
       "50%    2509.000000    89.000000     3.0     5.000000     5.000000   \n",
       "75%    3596.000000    90.000000     3.0     6.000000     6.000000   \n",
       "max    6369.000000    93.000000     3.0     9.000000     9.000000   \n",
       "\n",
       "            c1(BS)       c2(CT)       c3(CP)       c4(CD)       c5(HL)  \\\n",
       "count  1758.000000  1758.000000  1758.000000  1758.000000  1758.000000   \n",
       "mean      4.559158     2.696246     2.905575     2.818544     5.674061   \n",
       "std       1.039720     0.475821     0.429640     0.457104     0.526064   \n",
       "min       2.000000     1.000000     1.000000     1.000000     3.000000   \n",
       "25%       4.000000     2.000000     3.000000     3.000000     5.000000   \n",
       "50%       4.000000     3.000000     3.000000     3.000000     6.000000   \n",
       "75%       6.000000     3.000000     3.000000     3.000000     6.000000   \n",
       "max       6.000000     6.000000     6.000000     6.000000     6.000000   \n",
       "\n",
       "            c6(PS)       c7(GA)          LOP  Unnamed: 15  Unnamed: 16  \n",
       "count  1758.000000  1758.000000  1758.000000          0.0          0.0  \n",
       "mean      5.794084     2.492036    26.933447          NaN          NaN  \n",
       "std       0.415589     0.588927     1.281010          NaN          NaN  \n",
       "min       4.000000     1.000000    21.000000          NaN          NaN  \n",
       "25%       6.000000     2.000000    26.000000          NaN          NaN  \n",
       "50%       6.000000     3.000000    27.000000          NaN          NaN  \n",
       "75%       6.000000     3.000000    28.000000          NaN          NaN  \n",
       "max       9.000000     9.000000    30.000000          NaN          NaN  "
      ]
     },
     "execution_count": 42,
     "metadata": {},
     "output_type": "execute_result"
    }
   ],
   "source": [
    "ferma3_czysta = ferma3.drop('nr oj', axis =1)\n",
    "ferma3_czysta.describe()"
   ]
  },
  {
   "cell_type": "markdown",
   "metadata": {
    "id": "vHx5545sx3jI"
   },
   "source": [
    "### Zmiany liczebności szczeniąt urodzonych i odsadzonych na danej fermie"
   ]
  },
  {
   "cell_type": "code",
   "execution_count": 43,
   "metadata": {
    "colab": {
     "base_uri": "https://localhost:8080/",
     "height": 402
    },
    "id": "JrVUtC5gx36c",
    "outputId": "d533710c-c41e-4af5-a204-4d980fe9d701"
   },
   "outputs": [
    {
     "data": {
      "text/plain": [
       "Text(0.5, 1.0, 'Liczba urodzeń szczeniąt na przestrzeni lat')"
      ]
     },
     "execution_count": 43,
     "metadata": {},
     "output_type": "execute_result"
    },
    {
     "data": {
      "image/png": "[encoded data removed]",
      "text/plain": [
       "<Figure size 402.375x360 with 1 Axes>"
      ]
     },
     "metadata": {
      "needs_background": "light"
     },
     "output_type": "display_data"
    }
   ],
   "source": [
    "sns.relplot(data = dane, x = 'rok', y = 'liur', kind = 'line', hue=\"ferma\", color='green')\n",
    "plt.ylabel('Ocena')\n",
    "plt.title('Liczba urodzeń szczeniąt na przestrzeni lat')"
   ]
  },
  {
   "cell_type": "markdown",
   "metadata": {
    "id": "_I1Bk90h4KFz"
   },
   "source": [
    "W oczy rzuca się na pewno to że z roku 91 na rok 92 w każdej fermie spadła liczba urodzeń szczeniąt."
   ]
  },
  {
   "cell_type": "code",
   "execution_count": 44,
   "metadata": {
    "colab": {
     "base_uri": "https://localhost:8080/",
     "height": 402
    },
    "id": "CojTesFP4TO_",
    "outputId": "aa0d74a4-1a31-425c-d061-40161d51ddcd"
   },
   "outputs": [
    {
     "data": {
      "text/plain": [
       "Text(0.5, 1.0, 'Liczba odsadzonych szczeniąt na przestrzeni lat')"
      ]
     },
     "execution_count": 44,
     "metadata": {},
     "output_type": "execute_result"
    },
    {
     "data": {
      "image/png": "[encoded data removed]",
      "text/plain": [
       "<Figure size 402.375x360 with 1 Axes>"
      ]
     },
     "metadata": {
      "needs_background": "light"
     },
     "output_type": "display_data"
    }
   ],
   "source": [
    "sns.relplot(data = dane, x = 'rok', y = 'liod', kind = 'line', hue=\"ferma\", color='green')\n",
    "plt.ylabel('Ocena')\n",
    "plt.title('Liczba odsadzonych szczeniąt na przestrzeni lat')"
   ]
  },
  {
   "cell_type": "markdown",
   "metadata": {
    "id": "TLzhYdvz4lkd"
   },
   "source": [
    "Trendy w każdym roku i w każdej z 3 frem dla danych dotyczącyuch szczeniąt odsadzonych są takie same jak w przypadku danych szczeniąt urodzonych. "
   ]
  },
  {
   "cell_type": "markdown",
   "metadata": {
    "id": "H4-wJFBcCtC6"
   },
   "source": [
    "### Jak zmieniały się poszczególne parametry oceny lisów na przestrzeni lat, w zależności od fermy"
   ]
  },
  {
   "cell_type": "code",
   "execution_count": 45,
   "metadata": {
    "colab": {
     "base_uri": "https://localhost:8080/",
     "height": 402
    },
    "id": "bq9D8O39cI0Y",
    "outputId": "34f49ce1-735f-4b2b-f1c9-456536768da2"
   },
   "outputs": [
    {
     "data": {
      "text/plain": [
       "Text(0.5, 1.0, 'Ocena wielkości osobników na przestrzeni lat')"
      ]
     },
     "execution_count": 45,
     "metadata": {},
     "output_type": "execute_result"
    },
    {
     "data": {
      "image/png": "[encoded data removed]",
      "text/plain": [
       "<Figure size 402.375x360 with 1 Axes>"
      ]
     },
     "metadata": {
      "needs_background": "light"
     },
     "output_type": "display_data"
    }
   ],
   "source": [
    "sns.relplot(data = dane, x = 'rok', y = 'c1(BS)', kind = 'line', hue=\"ferma\", color='green')\n",
    "plt.ylabel('Ocena')\n",
    "plt.title('Ocena wielkości osobników na przestrzeni lat')\n"
   ]
  },
  {
   "cell_type": "markdown",
   "metadata": {
    "id": "_vyzhPy_MTIQ"
   },
   "source": [
    "Największe osobniki na przestrzeni lat występowały na fermie numer 1. Najmniejsze osobniki rodziły się na fermie nr 2."
   ]
  },
  {
   "cell_type": "markdown",
   "metadata": {
    "id": "Cf3raUBbEQ5L"
   },
   "source": []
  },
  {
   "cell_type": "code",
   "execution_count": 46,
   "metadata": {
    "colab": {
     "base_uri": "https://localhost:8080/",
     "height": 402
    },
    "id": "TYDky14YskBG",
    "outputId": "8a080fdd-6b28-4b2e-99e9-af3257900d3a"
   },
   "outputs": [
    {
     "data": {
      "text/plain": [
       "Text(0.5, 1.0, 'Ocena koloru okrywy włosowej na przestrzeni lat')"
      ]
     },
     "execution_count": 46,
     "metadata": {},
     "output_type": "execute_result"
    },
    {
     "data": {
      "image/png": "[encoded data removed]",
      "text/plain": [
       "<Figure size 402.375x360 with 1 Axes>"
      ]
     },
     "metadata": {
      "needs_background": "light"
     },
     "output_type": "display_data"
    }
   ],
   "source": [
    "sns.relplot(data = dane, x = 'rok', y = 'c2(CT)', hue = 'ferma',kind = 'line', color='pink')\n",
    "plt.ylabel('Ocena')\n",
    "plt.title('Ocena koloru okrywy włosowej na przestrzeni lat')"
   ]
  },
  {
   "cell_type": "code",
   "execution_count": 47,
   "metadata": {
    "colab": {
     "base_uri": "https://localhost:8080/",
     "height": 402
    },
    "id": "bNgDWZsOcctB",
    "outputId": "e952d50a-5708-465f-f942-7ee3b66f8966"
   },
   "outputs": [
    {
     "data": {
      "text/plain": [
       "Text(0.5, 1.0, 'Ocena czystości koloru okrywy włosowej na przestrzeni lat')"
      ]
     },
     "execution_count": 47,
     "metadata": {},
     "output_type": "execute_result"
    },
    {
     "data": {
      "image/png": "[encoded data removed]",
      "text/plain": [
       "<Figure size 402.375x360 with 1 Axes>"
      ]
     },
     "metadata": {
      "needs_background": "light"
     },
     "output_type": "display_data"
    }
   ],
   "source": [
    "sns.relplot(data = dane, x = 'rok', y = 'c3(CP)',hue=\"ferma\", kind = 'line')\n",
    "plt.ylabel('Ocena')\n",
    "plt.title('Ocena czystości koloru okrywy włosowej na przestrzeni lat')"
   ]
  },
  {
   "cell_type": "markdown",
   "metadata": {
    "id": "mk70_4M1MCNd"
   },
   "source": [
    "Ferma 1 wypada najgorzej jeżeli chodzi o czystość koloru okryewy włoswoej, największy spadek występuje z roku 89' na 90'"
   ]
  },
  {
   "cell_type": "code",
   "execution_count": 48,
   "metadata": {
    "colab": {
     "base_uri": "https://localhost:8080/",
     "height": 402
    },
    "id": "ix3s8CgNfYx0",
    "outputId": "b8fdbfc5-c534-428f-cd68-2a8c54fb08bb"
   },
   "outputs": [
    {
     "data": {
      "text/plain": [
       "Text(0.5, 1.0, 'Ocena gęstości okrywy włosowej na przestrzeni lat')"
      ]
     },
     "execution_count": 48,
     "metadata": {},
     "output_type": "execute_result"
    },
    {
     "data": {
      "image/png": "[encoded data removed]",
      "text/plain": [
       "<Figure size 402.375x360 with 1 Axes>"
      ]
     },
     "metadata": {
      "needs_background": "light"
     },
     "output_type": "display_data"
    }
   ],
   "source": [
    "sns.relplot(data = dane, x = 'rok', y = 'c4(CD)', kind = 'line',hue=\"ferma\", color='purple')\n",
    "plt.ylabel('Ocena')\n",
    "plt.title('Ocena gęstości okrywy włosowej na przestrzeni lat')\n"
   ]
  },
  {
   "cell_type": "code",
   "execution_count": 49,
   "metadata": {
    "colab": {
     "base_uri": "https://localhost:8080/",
     "height": 402
    },
    "id": "GMLrBVuyeRFO",
    "outputId": "7bbea50e-539f-45d7-8934-37e007c79e1b"
   },
   "outputs": [
    {
     "data": {
      "text/plain": [
       "Text(0.5, 1.0, 'Ocena długości okrywy włosowej na przestrzeni lat')"
      ]
     },
     "execution_count": 49,
     "metadata": {},
     "output_type": "execute_result"
    },
    {
     "data": {
      "image/png": "[encoded data removed]",
      "text/plain": [
       "<Figure size 402.375x360 with 1 Axes>"
      ]
     },
     "metadata": {
      "needs_background": "light"
     },
     "output_type": "display_data"
    }
   ],
   "source": [
    "sns.relplot(data = dane, x = 'rok', y = 'c5(HL)',hue ='ferma', kind = 'line', color='red')\n",
    "plt.ylabel('Ocena')\n",
    "plt.title('Ocena długości okrywy włosowej na przestrzeni lat')"
   ]
  },
  {
   "cell_type": "code",
   "execution_count": 50,
   "metadata": {
    "colab": {
     "base_uri": "https://localhost:8080/",
     "height": 402
    },
    "id": "0n9veabve5uz",
    "outputId": "569e6186-cf93-41c8-f72c-d5f43bb6065c"
   },
   "outputs": [
    {
     "data": {
      "text/plain": [
       "Text(0.5, 1.0, 'Ocena czystości posrebrzenia okrywy włosowej')"
      ]
     },
     "execution_count": 50,
     "metadata": {},
     "output_type": "execute_result"
    },
    {
     "data": {
      "image/png": "[encoded data removed]",
      "text/plain": [
       "<Figure size 402.375x360 with 1 Axes>"
      ]
     },
     "metadata": {
      "needs_background": "light"
     },
     "output_type": "display_data"
    }
   ],
   "source": [
    "sns.relplot(data = dane, x = 'rok', y = 'c6(PS)',hue='ferma', kind = 'line', color='yellow')\n",
    "plt.ylabel('Ocena')\n",
    "plt.title('Ocena czystości posrebrzenia okrywy włosowej')"
   ]
  },
  {
   "cell_type": "markdown",
   "metadata": {
    "id": "BcFLl4k8Ejt8"
   },
   "source": [
    "Tu zdecydownie ferma 2 wypada najgorzej pod względem oceny czystości posrebrzenia okrywy włosowej."
   ]
  },
  {
   "cell_type": "code",
   "execution_count": 51,
   "metadata": {
    "colab": {
     "base_uri": "https://localhost:8080/",
     "height": 402
    },
    "id": "BAgoGkDFi1uJ",
    "outputId": "588341f6-6ce5-40e2-9f86-c12cf7a97c92"
   },
   "outputs": [
    {
     "data": {
      "text/plain": [
       "Text(0.5, 1.0, 'Ocena wyglądu ogólnego na przestrzeni lat')"
      ]
     },
     "execution_count": 51,
     "metadata": {},
     "output_type": "execute_result"
    },
    {
     "data": {
      "image/png": "[encoded data removed]",
      "text/plain": [
       "<Figure size 402.375x360 with 1 Axes>"
      ]
     },
     "metadata": {
      "needs_background": "light"
     },
     "output_type": "display_data"
    }
   ],
   "source": [
    "sns.relplot(data = dane, x = 'rok', y = 'c7(GA)', hue = 'ferma',kind = 'line', color='pink')\n",
    "plt.ylabel('Ocena')\n",
    "plt.title('Ocena wyglądu ogólnego na przestrzeni lat')"
   ]
  },
  {
   "cell_type": "code",
   "execution_count": 52,
   "metadata": {
    "colab": {
     "base_uri": "https://localhost:8080/",
     "height": 402
    },
    "id": "0zI_k4Pusc9x",
    "outputId": "9db6e637-ddc5-46bf-c9a4-fb81ea1385ea"
   },
   "outputs": [
    {
     "data": {
      "text/plain": [
       "Text(0.5, 1.0, 'Łączna ocena pokroju na przestrzeni lat')"
      ]
     },
     "execution_count": 52,
     "metadata": {},
     "output_type": "execute_result"
    },
    {
     "data": {
      "image/png": "[encoded data removed]",
      "text/plain": [
       "<Figure size 402.375x360 with 1 Axes>"
      ]
     },
     "metadata": {
      "needs_background": "light"
     },
     "output_type": "display_data"
    }
   ],
   "source": [
    "sns.relplot(data = dane, x = 'rok', y = 'LOP', hue = 'ferma',kind = 'line')\n",
    "plt.ylabel('Ocena')\n",
    "plt.title('Łączna ocena pokroju na przestrzeni lat')"
   ]
  },
  {
   "cell_type": "code",
   "execution_count": 52,
   "metadata": {
    "id": "g7FGxttxCVeW"
   },
   "outputs": [],
   "source": []
  },
  {
   "cell_type": "markdown",
   "metadata": {
    "id": "486VHG3NCXhX"
   },
   "source": [
    "###Sprawdzanie na jakiej fermie i w którym roku, lisy były najwyżej i najniżej ocenione"
   ]
  },
  {
   "cell_type": "code",
   "execution_count": 53,
   "metadata": {
    "colab": {
     "base_uri": "https://localhost:8080/"
    },
    "id": "O5qRFzbvg5mh",
    "outputId": "e4dc1df9-a8e4-482a-c07d-3adbaf9cc44f"
   },
   "outputs": [
    {
     "name": "stdout",
     "output_type": "stream",
     "text": [
      "Średnio najwyżej oceniane lisy były na fermie 1 w roku 90 i ich średnia łączna ocena pokroju wyniosła  28.22222222222222\n"
     ]
    }
   ],
   "source": [
    "# Grupowanie po fermie i roku\n",
    "grouped = dane.groupby(['ferma', 'rok'])['LOP'].mean()\n",
    "\n",
    "# Znajdowanie indeksu maksymalnej wartości\n",
    "max_index = grouped.idxmax()\n",
    "\n",
    "print(\"Średnio najwyżej oceniane lisy były na fermie\", max_index[0], \"w roku\", max_index[1], \"i ich średnia łączna ocena pokroju wyniosła \", grouped.max())"
   ]
  },
  {
   "cell_type": "code",
   "execution_count": 54,
   "metadata": {
    "colab": {
     "base_uri": "https://localhost:8080/"
    },
    "id": "Q7pvzTMBM7Mg",
    "outputId": "cfa8d93e-3f0d-4d18-9a99-9eeb2e9a563a"
   },
   "outputs": [
    {
     "name": "stdout",
     "output_type": "stream",
     "text": [
      "Średnio najniżej oceniane lisy były na fermie 2 w roku 91 i ich średnia łączna ocena pokroju wyniosła  24.654676258992804\n"
     ]
    }
   ],
   "source": [
    "# Znajdowanie indeksu minimalnej wartości\n",
    "min_index = grouped.idxmin()\n",
    "\n",
    "print(\"Średnio najniżej oceniane lisy były na fermie\", min_index[0], \"w roku\", min_index[1], \"i ich średnia łączna ocena pokroju wyniosła \", grouped.min())"
   ]
  },
  {
   "cell_type": "markdown",
   "metadata": {
    "id": "qKYi940GCkzd"
   },
   "source": [
    "### Najlepsi ojcowie w zbiorze danych"
   ]
  },
  {
   "cell_type": "code",
   "execution_count": 55,
   "metadata": {
    "colab": {
     "base_uri": "https://localhost:8080/",
     "height": 310
    },
    "id": "qN2DUV8EyJhc",
    "outputId": "06cb0d57-7f0a-4257-9c17-4c2fb03f358c"
   },
   "outputs": [
    {
     "data": {
      "image/png": "[encoded data removed]",
      "text/plain": [
       "<Figure size 432x288 with 1 Axes>"
      ]
     },
     "metadata": {
      "needs_background": "light"
     },
     "output_type": "display_data"
    }
   ],
   "source": [
    "# Grupowanie po ojcach, liczenie średniej ceny\n",
    "grouped = dane.groupby(['nr oj'])['LOP'].mean()\n",
    "\n",
    "# sortowanie od największej średniej ceny\n",
    "grouped = grouped.sort_values(ascending=False)\n",
    "\n",
    "# pobieranie 10 ojców z największą średnią ceną\n",
    "top_10_dads = grouped.head(10)\n",
    "\n",
    "# tworzenie wykresu słupkowego\n",
    "\n",
    "\n",
    "\n",
    "plt.bar(range(len(top_10_dads)), top_10_dads.values)\n",
    "plt.xticks(range(len(top_10_dads)), top_10_dads.index, rotation=45, ha='right')\n",
    "plt.xlabel(\"Nr Ojca\")\n",
    "plt.ylabel(\"Średnia łączna ocena pokroju\")\n",
    "plt.title(\"10 ojców których potomstwo miało najwyższą średnią łaczną ocene pokroju\")\n",
    "plt.show()\n",
    "\n"
   ]
  },
  {
   "cell_type": "markdown",
   "metadata": {
    "id": "LVUfC0uRBQJ4"
   },
   "source": [
    "Pierwszych 7 wyników ma maksymalną ocene 29, natomiast 3 pozostałe 28."
   ]
  },
  {
   "cell_type": "code",
   "execution_count": 56,
   "metadata": {
    "id": "HAav7m_U6vmq"
   },
   "outputs": [],
   "source": [
    "top_ojciec1 = dane[dane['nr oj'] == 4665]\n",
    "top_ojciec2 = dane[dane['nr oj'] == 6154]\n",
    "top_ojciec3 = dane[dane['nr oj'] == 3001]\n",
    "top_ojciec4 = dane[dane['nr oj'] == 2718]\n",
    "top_ojciec5 = dane[dane['nr oj'] == 3790]\n",
    "top_ojciec6 = dane[dane['nr oj'] == 1042]\n",
    "top_ojciec7 = dane[dane['nr oj'] == 2391]\n",
    "top_ojciec8 = dane[dane['nr oj'] == 3808]\n",
    "top_ojciec9 = dane[dane['nr oj'] == 6123]\n",
    "top_ojciec10 = dane[dane['nr oj'] == 2458]"
   ]
  },
  {
   "cell_type": "code",
   "execution_count": 57,
   "metadata": {
    "colab": {
     "base_uri": "https://localhost:8080/"
    },
    "id": "aVYqLKwK9mgp",
    "outputId": "cd4e78be-0738-49ff-c616-601c2aae7bdb"
   },
   "outputs": [
    {
     "name": "stdout",
     "output_type": "stream",
     "text": [
      "Liczba potomstwa ojca 4665:\n",
      "1\n",
      "Liczba potomstwa ojca 6154:\n",
      "1\n",
      "Liczba potomswwa ojca 3001:\n",
      "3\n",
      "Liczba potomstwa ojca 2718:\n",
      "1\n",
      "Liczba potomstwa ojca 3790:\n",
      "1\n",
      "Liczba potomstwa ojca 1042:\n",
      "1\n",
      "Liczba potomstwa ojca 2391:\n",
      "1\n",
      "Liczba potomstwa ojca 3808:\n",
      "4\n",
      "Liczba potomstwa ojca 6123:\n",
      "2\n",
      "Liczba potomstwa ojca 2458:\n",
      "3\n"
     ]
    }
   ],
   "source": [
    "print('Liczba potomstwa ojca 4665:')\n",
    "print(len(top_ojciec1))\n",
    "print('Liczba potomstwa ojca 6154:')\n",
    "print(len(top_ojciec2))\n",
    "print('Liczba potomswwa ojca 3001:')\n",
    "print(len(top_ojciec3))\n",
    "print('Liczba potomstwa ojca 2718:')\n",
    "print(len(top_ojciec4))\n",
    "print('Liczba potomstwa ojca 3790:')\n",
    "print(len(top_ojciec5))\n",
    "print('Liczba potomstwa ojca 1042:')\n",
    "print(len(top_ojciec6))\n",
    "print('Liczba potomstwa ojca 2391:')\n",
    "print(len(top_ojciec7))\n",
    "print('Liczba potomstwa ojca 3808:')\n",
    "print(len(top_ojciec8))\n",
    "print('Liczba potomstwa ojca 6123:')\n",
    "print(len(top_ojciec9))\n",
    "print('Liczba potomstwa ojca 2458:')\n",
    "print(len(top_ojciec10))\n"
   ]
  },
  {
   "cell_type": "markdown",
   "metadata": {
    "id": "xCy5qSUrByoG"
   },
   "source": []
  },
  {
   "cell_type": "markdown",
   "metadata": {
    "id": "zMzP9xIfExtp"
   },
   "source": [
    "### Najlepsze Matki w zbiorze danych"
   ]
  },
  {
   "cell_type": "code",
   "execution_count": 58,
   "metadata": {
    "colab": {
     "base_uri": "https://localhost:8080/",
     "height": 310
    },
    "id": "oYTsqOSRByTe",
    "outputId": "f594db2e-f4bd-4bcf-b02c-6fb7a6c8d463"
   },
   "outputs": [
    {
     "data": {
      "image/png": "[encoded data removed]",
      "text/plain": [
       "<Figure size 432x288 with 1 Axes>"
      ]
     },
     "metadata": {
      "needs_background": "light"
     },
     "output_type": "display_data"
    }
   ],
   "source": [
    "# Grupowanie po matkach, liczenie średniej oceny\n",
    "grouped = dane.groupby(['nr ma'])['LOP'].mean()\n",
    "\n",
    "# sortowanie od największej średniej oceny\n",
    "grouped = grouped.sort_values(ascending=False)\n",
    "\n",
    "# pobieranie 10 matek z największą średnią oceną\n",
    "top_10_moms = grouped.head(10)\n",
    "\n",
    "# tworzenie wykresu słupkowego\n",
    "\n",
    "plt.bar(range(len(top_10_moms)), top_10_moms.values)\n",
    "plt.xticks(range(len(top_10_moms)), top_10_moms.index, rotation=45, ha='right')\n",
    "plt.xlabel(\"Nr Matki\")\n",
    "plt.ylabel(\"Średnia łączna ocena pokroju\")\n",
    "plt.title(\"10 matek, których potomstwo miało najwyższą średnią łaczną ocene pokroju\")\n",
    "plt.show()"
   ]
  },
  {
   "cell_type": "code",
   "execution_count": 58,
   "metadata": {
    "id": "Nxkzvyfw-rJi"
   },
   "outputs": [],
   "source": []
  }
 ],
 "metadata": {
  "colab": {
   "provenance": [],
   "toc_visible": true
  },
  "kernelspec": {
   "display_name": "Python 3 (ipykernel)",
   "language": "python",
   "name": "python3"
  },
  "language_info": {
   "codemirror_mode": {
    "name": "ipython",
    "version": 3
   },
   "file_extension": ".py",
   "mimetype": "text/x-python",
   "name": "python",
   "nbconvert_exporter": "python",
   "pygments_lexer": "ipython3",
   "version": "3.9.12"
  }
 },
 "nbformat": 4,
 "nbformat_minor": 1
}
